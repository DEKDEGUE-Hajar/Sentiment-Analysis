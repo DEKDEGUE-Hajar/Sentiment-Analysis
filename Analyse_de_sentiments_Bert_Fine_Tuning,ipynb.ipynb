{
  "cells": [
    {
      "cell_type": "markdown",
      "metadata": {
        "id": "view-in-github",
        "colab_type": "text"
      },
      "source": [
        "<a href=\"https://colab.research.google.com/github/DEKDEGUE-Hajar/Sentiment-Analysis/blob/main/Analyse_de_sentiments_Bert_Fine_Tuning%2Cipynb.ipynb\" target=\"_parent\"><img src=\"https://colab.research.google.com/assets/colab-badge.svg\" alt=\"Open In Colab\"/></a>"
      ]
    },
    {
      "cell_type": "markdown",
      "source": [
        "# ***Darija Sentiment Analysis Notebook***"
      ],
      "metadata": {
        "id": "qb_T5wgSYGi8"
      }
    },
    {
      "cell_type": "markdown",
      "source": [
        "## **Overview**\n",
        "This notebook is dedicated to performing sentiment analysis on Moroccan Darija (Moroccan Arabic) tweets. The goal is to classify tweets as either positive or negative using a pre-trained BERT model fine-tuned on a dataset of Moroccan Darija tweets. The notebook follows a structured approach, starting from data loading and preprocessing to model training, evaluation, and prediction.\n",
        "\n",
        "## **Steps**\n",
        "\n",
        "### 1. Importing Libraries\n",
        "Necessary libraries such as transformers, torch, and pandas are installed and imported.\n",
        "\n",
        "Google Drive is mounted to access the dataset stored in the cloud.\n",
        "\n",
        "### 2. Dataset Loading:\n",
        "\n",
        "The dataset is loaded from an Excel file\n",
        ": [ElecMorocco2016.xlsx](https://github.com/sentiprojects/ElecMorocco2016/blob/master/ElecMorocco2016.xlsx), which contains 10254 Arabic facebook comments about the Moroccan elections of 2016 and their corresponding labels (positive or negative). The comments are written in standard arabic and morrocan dialect.\n",
        "\n",
        "### 3. Dataset Cleaning and Visualization:\n",
        "\n",
        "The dataset is cleaned by dropping unnecessary columns, renaming columns for clarity, and mapping the labels to binary values (0 for negative, 1 for positive). Additionally, the text data is cleaned by removing stop words, which are common words that do not contribute significantly to the sentiment analysis. Stop words in Darija (Moroccan Arabic) are obtained from a predefined list, and domain-specific stop words (e.g., \"الله\", \"بنكيران\", \"المغرب\") are added to ensure the cleaning process is tailored to the dataset. These domain-specific stop words are removed because they hold no sentiment and would not be useful for the model. The cleaning process also includes removing mentions, hashtags, URLs, non-Arabic characters, and short words (length ≤ 2). After cleaning, the dataset is visualized by plotting the top 25 most common words to gain insights into the most frequent terms in the cleaned text. This step helps in understanding the dataset and ensuring the text is ready for further analysis.\n",
        "\n",
        "### 4. Data Splitting:\n",
        "\n",
        "The dataset is split into training and testing sets using an 80-20 split ratio.\n",
        "\n",
        "### 5. Tokenization and Input Formatting:\n",
        "\n",
        "In this step, I used BERT's tokenizer to convert the text data into a format suitable for model input, ensuring uniform length for all sentences and creating attention masks for padding, then The tokenized data and labels were converted into tensors and loaded into PyTorch DataLoaders. This enables efficient batch processing during model training and evaluation.\n",
        "\n",
        "### 6. Model Training:\n",
        "\n",
        "A custom BERT classifier is defined, which consists of a BERT model followed by a feed-forward classifier.\n",
        "\n",
        "The model is trained on the training dataset for 2 epochs, with evaluation performed on the validation set after each epoch.\n",
        "\n",
        "The training process includes loss calculation, gradient clipping, and learning rate scheduling.\n",
        "\n",
        "### 7. Predicting & Evaluating the model:\n",
        "\n",
        "The trained model is evaluated on the test set using ROC-AUC and accuracy metrics.\n",
        "\n",
        "A ROC curve is plotted to visualize the model's performance.\n"
      ],
      "metadata": {
        "id": "NxDK2Z2VUkbD"
      }
    },
    {
      "cell_type": "markdown",
      "source": [
        "## 1. Importing Libraries"
      ],
      "metadata": {
        "id": "Kg-ubuMvPfqF"
      }
    },
    {
      "cell_type": "code",
      "source": [
        "import pandas as pd\n",
        "import re\n",
        "import torch\n",
        "import requests\n",
        "import matplotlib.pyplot as plt\n",
        "from sklearn.model_selection import train_test_split"
      ],
      "metadata": {
        "id": "slWk3m3sMz9a"
      },
      "execution_count": null,
      "outputs": []
    },
    {
      "cell_type": "markdown",
      "source": [
        "## 2. Loading The  Dataset"
      ],
      "metadata": {
        "id": "vTQEMmNkPrCX"
      }
    },
    {
      "cell_type": "code",
      "source": [
        "#mount the drive\n",
        "from google.colab import drive\n",
        "drive.mount('/content/drive')"
      ],
      "metadata": {
        "colab": {
          "base_uri": "https://localhost:8080/"
        },
        "id": "b2PZxwBqMz6l",
        "outputId": "ae11fc91-7bd4-416f-9964-9cc4e245448a"
      },
      "execution_count": null,
      "outputs": [
        {
          "output_type": "stream",
          "name": "stdout",
          "text": [
            "Mounted at /content/drive\n"
          ]
        }
      ]
    },
    {
      "cell_type": "code",
      "source": [
        "# Load the dataset\n",
        "df = pd.read_excel(\"/content/drive/MyDrive/nlp-project/ElecMorocco2016.xlsx\")"
      ],
      "metadata": {
        "id": "mjFVW_KrM0AE"
      },
      "execution_count": null,
      "outputs": []
    },
    {
      "cell_type": "code",
      "source": [
        "df.head()"
      ],
      "metadata": {
        "colab": {
          "base_uri": "https://localhost:8080/",
          "height": 206
        },
        "id": "NPPa1pZBNT_p",
        "outputId": "9b4bd7dc-cea2-4b7d-abde-a2eb3dd54c00"
      },
      "execution_count": null,
      "outputs": [
        {
          "output_type": "execute_result",
          "data": {
            "text/plain": [
              "   index                                    comment_message sentiment  \\\n",
              "0      1  البكاء ليس سمت الرجال ..البكاء سلطة الضعفاء لك...         N   \n",
              "1      2  كلنا بنكيران\\nولاية ثانية ان شاء الله\\nموتوا ب...         P   \n",
              "2      3  الشركات في الدول المتقدمة تساهم في بناء أوطانه...         N   \n",
              "3      4  من ينتقد بن كران هم خصوم معارضة لى خاصها هي سل...         N   \n",
              "4      5  هدو صحاب بام توجدو راسهوم بغين اعفاءات ضريبية ...         N   \n",
              "\n",
              "     comment_published  \n",
              "0  2016-10-01 00:07:44  \n",
              "1  2016-10-01 00:47:37  \n",
              "2  2016-10-01 00:48:02  \n",
              "3  2016-10-01 00:49:10  \n",
              "4  2016-10-01 00:59:47  "
            ],
            "text/html": [
              "\n",
              "  <div id=\"df-6d490fab-ab84-4094-9dd4-d4c93f0a027e\" class=\"colab-df-container\">\n",
              "    <div>\n",
              "<style scoped>\n",
              "    .dataframe tbody tr th:only-of-type {\n",
              "        vertical-align: middle;\n",
              "    }\n",
              "\n",
              "    .dataframe tbody tr th {\n",
              "        vertical-align: top;\n",
              "    }\n",
              "\n",
              "    .dataframe thead th {\n",
              "        text-align: right;\n",
              "    }\n",
              "</style>\n",
              "<table border=\"1\" class=\"dataframe\">\n",
              "  <thead>\n",
              "    <tr style=\"text-align: right;\">\n",
              "      <th></th>\n",
              "      <th>index</th>\n",
              "      <th>comment_message</th>\n",
              "      <th>sentiment</th>\n",
              "      <th>comment_published</th>\n",
              "    </tr>\n",
              "  </thead>\n",
              "  <tbody>\n",
              "    <tr>\n",
              "      <th>0</th>\n",
              "      <td>1</td>\n",
              "      <td>البكاء ليس سمت الرجال ..البكاء سلطة الضعفاء لك...</td>\n",
              "      <td>N</td>\n",
              "      <td>2016-10-01 00:07:44</td>\n",
              "    </tr>\n",
              "    <tr>\n",
              "      <th>1</th>\n",
              "      <td>2</td>\n",
              "      <td>كلنا بنكيران\\nولاية ثانية ان شاء الله\\nموتوا ب...</td>\n",
              "      <td>P</td>\n",
              "      <td>2016-10-01 00:47:37</td>\n",
              "    </tr>\n",
              "    <tr>\n",
              "      <th>2</th>\n",
              "      <td>3</td>\n",
              "      <td>الشركات في الدول المتقدمة تساهم في بناء أوطانه...</td>\n",
              "      <td>N</td>\n",
              "      <td>2016-10-01 00:48:02</td>\n",
              "    </tr>\n",
              "    <tr>\n",
              "      <th>3</th>\n",
              "      <td>4</td>\n",
              "      <td>من ينتقد بن كران هم خصوم معارضة لى خاصها هي سل...</td>\n",
              "      <td>N</td>\n",
              "      <td>2016-10-01 00:49:10</td>\n",
              "    </tr>\n",
              "    <tr>\n",
              "      <th>4</th>\n",
              "      <td>5</td>\n",
              "      <td>هدو صحاب بام توجدو راسهوم بغين اعفاءات ضريبية ...</td>\n",
              "      <td>N</td>\n",
              "      <td>2016-10-01 00:59:47</td>\n",
              "    </tr>\n",
              "  </tbody>\n",
              "</table>\n",
              "</div>\n",
              "    <div class=\"colab-df-buttons\">\n",
              "\n",
              "  <div class=\"colab-df-container\">\n",
              "    <button class=\"colab-df-convert\" onclick=\"convertToInteractive('df-6d490fab-ab84-4094-9dd4-d4c93f0a027e')\"\n",
              "            title=\"Convert this dataframe to an interactive table.\"\n",
              "            style=\"display:none;\">\n",
              "\n",
              "  <svg xmlns=\"http://www.w3.org/2000/svg\" height=\"24px\" viewBox=\"0 -960 960 960\">\n",
              "    <path d=\"M120-120v-720h720v720H120Zm60-500h600v-160H180v160Zm220 220h160v-160H400v160Zm0 220h160v-160H400v160ZM180-400h160v-160H180v160Zm440 0h160v-160H620v160ZM180-180h160v-160H180v160Zm440 0h160v-160H620v160Z\"/>\n",
              "  </svg>\n",
              "    </button>\n",
              "\n",
              "  <style>\n",
              "    .colab-df-container {\n",
              "      display:flex;\n",
              "      gap: 12px;\n",
              "    }\n",
              "\n",
              "    .colab-df-convert {\n",
              "      background-color: #E8F0FE;\n",
              "      border: none;\n",
              "      border-radius: 50%;\n",
              "      cursor: pointer;\n",
              "      display: none;\n",
              "      fill: #1967D2;\n",
              "      height: 32px;\n",
              "      padding: 0 0 0 0;\n",
              "      width: 32px;\n",
              "    }\n",
              "\n",
              "    .colab-df-convert:hover {\n",
              "      background-color: #E2EBFA;\n",
              "      box-shadow: 0px 1px 2px rgba(60, 64, 67, 0.3), 0px 1px 3px 1px rgba(60, 64, 67, 0.15);\n",
              "      fill: #174EA6;\n",
              "    }\n",
              "\n",
              "    .colab-df-buttons div {\n",
              "      margin-bottom: 4px;\n",
              "    }\n",
              "\n",
              "    [theme=dark] .colab-df-convert {\n",
              "      background-color: #3B4455;\n",
              "      fill: #D2E3FC;\n",
              "    }\n",
              "\n",
              "    [theme=dark] .colab-df-convert:hover {\n",
              "      background-color: #434B5C;\n",
              "      box-shadow: 0px 1px 3px 1px rgba(0, 0, 0, 0.15);\n",
              "      filter: drop-shadow(0px 1px 2px rgba(0, 0, 0, 0.3));\n",
              "      fill: #FFFFFF;\n",
              "    }\n",
              "  </style>\n",
              "\n",
              "    <script>\n",
              "      const buttonEl =\n",
              "        document.querySelector('#df-6d490fab-ab84-4094-9dd4-d4c93f0a027e button.colab-df-convert');\n",
              "      buttonEl.style.display =\n",
              "        google.colab.kernel.accessAllowed ? 'block' : 'none';\n",
              "\n",
              "      async function convertToInteractive(key) {\n",
              "        const element = document.querySelector('#df-6d490fab-ab84-4094-9dd4-d4c93f0a027e');\n",
              "        const dataTable =\n",
              "          await google.colab.kernel.invokeFunction('convertToInteractive',\n",
              "                                                    [key], {});\n",
              "        if (!dataTable) return;\n",
              "\n",
              "        const docLinkHtml = 'Like what you see? Visit the ' +\n",
              "          '<a target=\"_blank\" href=https://colab.research.google.com/notebooks/data_table.ipynb>data table notebook</a>'\n",
              "          + ' to learn more about interactive tables.';\n",
              "        element.innerHTML = '';\n",
              "        dataTable['output_type'] = 'display_data';\n",
              "        await google.colab.output.renderOutput(dataTable, element);\n",
              "        const docLink = document.createElement('div');\n",
              "        docLink.innerHTML = docLinkHtml;\n",
              "        element.appendChild(docLink);\n",
              "      }\n",
              "    </script>\n",
              "  </div>\n",
              "\n",
              "\n",
              "<div id=\"df-4ad6939a-5673-4855-b9a1-94d0ecc87e5b\">\n",
              "  <button class=\"colab-df-quickchart\" onclick=\"quickchart('df-4ad6939a-5673-4855-b9a1-94d0ecc87e5b')\"\n",
              "            title=\"Suggest charts\"\n",
              "            style=\"display:none;\">\n",
              "\n",
              "<svg xmlns=\"http://www.w3.org/2000/svg\" height=\"24px\"viewBox=\"0 0 24 24\"\n",
              "     width=\"24px\">\n",
              "    <g>\n",
              "        <path d=\"M19 3H5c-1.1 0-2 .9-2 2v14c0 1.1.9 2 2 2h14c1.1 0 2-.9 2-2V5c0-1.1-.9-2-2-2zM9 17H7v-7h2v7zm4 0h-2V7h2v10zm4 0h-2v-4h2v4z\"/>\n",
              "    </g>\n",
              "</svg>\n",
              "  </button>\n",
              "\n",
              "<style>\n",
              "  .colab-df-quickchart {\n",
              "      --bg-color: #E8F0FE;\n",
              "      --fill-color: #1967D2;\n",
              "      --hover-bg-color: #E2EBFA;\n",
              "      --hover-fill-color: #174EA6;\n",
              "      --disabled-fill-color: #AAA;\n",
              "      --disabled-bg-color: #DDD;\n",
              "  }\n",
              "\n",
              "  [theme=dark] .colab-df-quickchart {\n",
              "      --bg-color: #3B4455;\n",
              "      --fill-color: #D2E3FC;\n",
              "      --hover-bg-color: #434B5C;\n",
              "      --hover-fill-color: #FFFFFF;\n",
              "      --disabled-bg-color: #3B4455;\n",
              "      --disabled-fill-color: #666;\n",
              "  }\n",
              "\n",
              "  .colab-df-quickchart {\n",
              "    background-color: var(--bg-color);\n",
              "    border: none;\n",
              "    border-radius: 50%;\n",
              "    cursor: pointer;\n",
              "    display: none;\n",
              "    fill: var(--fill-color);\n",
              "    height: 32px;\n",
              "    padding: 0;\n",
              "    width: 32px;\n",
              "  }\n",
              "\n",
              "  .colab-df-quickchart:hover {\n",
              "    background-color: var(--hover-bg-color);\n",
              "    box-shadow: 0 1px 2px rgba(60, 64, 67, 0.3), 0 1px 3px 1px rgba(60, 64, 67, 0.15);\n",
              "    fill: var(--button-hover-fill-color);\n",
              "  }\n",
              "\n",
              "  .colab-df-quickchart-complete:disabled,\n",
              "  .colab-df-quickchart-complete:disabled:hover {\n",
              "    background-color: var(--disabled-bg-color);\n",
              "    fill: var(--disabled-fill-color);\n",
              "    box-shadow: none;\n",
              "  }\n",
              "\n",
              "  .colab-df-spinner {\n",
              "    border: 2px solid var(--fill-color);\n",
              "    border-color: transparent;\n",
              "    border-bottom-color: var(--fill-color);\n",
              "    animation:\n",
              "      spin 1s steps(1) infinite;\n",
              "  }\n",
              "\n",
              "  @keyframes spin {\n",
              "    0% {\n",
              "      border-color: transparent;\n",
              "      border-bottom-color: var(--fill-color);\n",
              "      border-left-color: var(--fill-color);\n",
              "    }\n",
              "    20% {\n",
              "      border-color: transparent;\n",
              "      border-left-color: var(--fill-color);\n",
              "      border-top-color: var(--fill-color);\n",
              "    }\n",
              "    30% {\n",
              "      border-color: transparent;\n",
              "      border-left-color: var(--fill-color);\n",
              "      border-top-color: var(--fill-color);\n",
              "      border-right-color: var(--fill-color);\n",
              "    }\n",
              "    40% {\n",
              "      border-color: transparent;\n",
              "      border-right-color: var(--fill-color);\n",
              "      border-top-color: var(--fill-color);\n",
              "    }\n",
              "    60% {\n",
              "      border-color: transparent;\n",
              "      border-right-color: var(--fill-color);\n",
              "    }\n",
              "    80% {\n",
              "      border-color: transparent;\n",
              "      border-right-color: var(--fill-color);\n",
              "      border-bottom-color: var(--fill-color);\n",
              "    }\n",
              "    90% {\n",
              "      border-color: transparent;\n",
              "      border-bottom-color: var(--fill-color);\n",
              "    }\n",
              "  }\n",
              "</style>\n",
              "\n",
              "  <script>\n",
              "    async function quickchart(key) {\n",
              "      const quickchartButtonEl =\n",
              "        document.querySelector('#' + key + ' button');\n",
              "      quickchartButtonEl.disabled = true;  // To prevent multiple clicks.\n",
              "      quickchartButtonEl.classList.add('colab-df-spinner');\n",
              "      try {\n",
              "        const charts = await google.colab.kernel.invokeFunction(\n",
              "            'suggestCharts', [key], {});\n",
              "      } catch (error) {\n",
              "        console.error('Error during call to suggestCharts:', error);\n",
              "      }\n",
              "      quickchartButtonEl.classList.remove('colab-df-spinner');\n",
              "      quickchartButtonEl.classList.add('colab-df-quickchart-complete');\n",
              "    }\n",
              "    (() => {\n",
              "      let quickchartButtonEl =\n",
              "        document.querySelector('#df-4ad6939a-5673-4855-b9a1-94d0ecc87e5b button');\n",
              "      quickchartButtonEl.style.display =\n",
              "        google.colab.kernel.accessAllowed ? 'block' : 'none';\n",
              "    })();\n",
              "  </script>\n",
              "</div>\n",
              "\n",
              "    </div>\n",
              "  </div>\n"
            ],
            "application/vnd.google.colaboratory.intrinsic+json": {
              "type": "dataframe",
              "variable_name": "df",
              "summary": "{\n  \"name\": \"df\",\n  \"rows\": 10254,\n  \"fields\": [\n    {\n      \"column\": \"index\",\n      \"properties\": {\n        \"dtype\": \"number\",\n        \"std\": 2960,\n        \"min\": 1,\n        \"max\": 10254,\n        \"num_unique_values\": 10254,\n        \"samples\": [\n          120,\n          8772,\n          3610\n        ],\n        \"semantic_type\": \"\",\n        \"description\": \"\"\n      }\n    },\n    {\n      \"column\": \"comment_message\",\n      \"properties\": {\n        \"dtype\": \"string\",\n        \"num_unique_values\": 10254,\n        \"samples\": [\n          \"\\u0644\\u0627\\u062a\\u062d\\u0632\\u0646\\u0648 \\u064a\\u0627 \\u0627\\u062e\\u0648\\u0627\\u0646\\u064a \\u0641\\u0642\\u0637 \\u0647\\u0630\\u0647 \\u062f\\u0645\\u0648\\u0639 \\u062a\\u0645\\u0627\\u0633\\u064a\\u062d \\u064a\\u062f\\u0631\\u064a\\u0641\\u0647\\u0627 \\u0628\\u0646\\u0643\\u064a\\u0631\\u0627\\u0646 \\u0644\\u0643\\u064a \\u064a\\u0635\\u0644 \\u0625\\u0644\\u0649 \\u0641\\u0631\\u064a\\u0633\\u062a\\u0647 ( \\u062d\\u0646\\u0627\\u0646 \\u0627\\u0644\\u0634\\u0639\\u0628 )\",\n          \"Abid Makhlouk  \\u0646\\u062a\\u0627 \\u0627\\u0644\\u0644\\u064a \\u0633\\u064a\\u0631 \\u0642\\u0631\\u0627 \\u0627\\u0644\\u0645\\u0648\\u0636\\u0648\\u0639 ...\\u0631\\u0627\\u0647 \\u0628\\u062a\\u0632\\u0643\\u064a\\u0629 \\u0645\\u0646 \\u0639\\u0646\\u062f \\u0627\\u0644\\u0636\\u0628\\u0639 \\u0628\\u0646\\u0643\\u064a\\u0631\\u0627\\u0646 \\u062a\\u0645 \\u062a\\u0637\\u0628\\u064a\\u0642 \\u0627\\u0644\\u0642\\u0631\\u0627\\u0631\",\n          \"\\u0648 \\u0627\\u0644\\u0645\\u0634\\u0643\\u0644 \\u062d\\u0627\\u0643\\u0645 \\u0627\\u0644\\u0628\\u0644\\u0627\\u062f \\u062a\\u064a\\u0633\\u0648\\u0644 \\u0623\\u064a\\u0646 \\u0627\\u0644\\u062a\\u0631\\u0648\\u062a \\u061f\\u061f\\u061f! \\u062a\\u0646\\u0645\\u0634\\u064a\\u0648 \\u0646\\u0633\\u0648\\u0644\\u0648 \\u0631\\u0626\\u064a\\u0633 \\u0627\\u0644\\u062d\\u0643\\u0648\\u0645\\u0629 .\\u0623\\u064a\\u0646 \\u0647\\u064a \\u0627\\u0644\\u062a\\u0631\\u0648\\u062a \\u061f \\u062a\\u064a\\u0642\\u0648\\u0644\\u064a\\u0643 \\u0648\\u0622\\u0644\\u0644\\u0647 \\u0645\\u0641\\u0631\\u0627\\u0633\\u064a !! \\u0645\\u0634\\u064a \\u0627\\u0644\\u0647\\u0628\\u0627\\u0644 \\u0647\\u062f\\u0627 .\"\n        ],\n        \"semantic_type\": \"\",\n        \"description\": \"\"\n      }\n    },\n    {\n      \"column\": \"sentiment\",\n      \"properties\": {\n        \"dtype\": \"category\",\n        \"num_unique_values\": 2,\n        \"samples\": [\n          \"P\",\n          \"N\"\n        ],\n        \"semantic_type\": \"\",\n        \"description\": \"\"\n      }\n    },\n    {\n      \"column\": \"comment_published\",\n      \"properties\": {\n        \"dtype\": \"object\",\n        \"num_unique_values\": 10230,\n        \"samples\": [\n          \"2016-10-16 13:43:05\",\n          \"2016-10-03 02:28:26\"\n        ],\n        \"semantic_type\": \"\",\n        \"description\": \"\"\n      }\n    }\n  ]\n}"
            }
          },
          "metadata": {},
          "execution_count": 4
        }
      ]
    },
    {
      "cell_type": "code",
      "source": [
        "df.info()"
      ],
      "metadata": {
        "colab": {
          "base_uri": "https://localhost:8080/"
        },
        "id": "LAbvYsz6QR4R",
        "outputId": "c1355856-a9fd-4588-efc8-4113cf794c6a"
      },
      "execution_count": null,
      "outputs": [
        {
          "output_type": "stream",
          "name": "stdout",
          "text": [
            "<class 'pandas.core.frame.DataFrame'>\n",
            "RangeIndex: 10254 entries, 0 to 10253\n",
            "Data columns (total 4 columns):\n",
            " #   Column             Non-Null Count  Dtype \n",
            "---  ------             --------------  ----- \n",
            " 0   index              10254 non-null  int64 \n",
            " 1   comment_message    10254 non-null  object\n",
            " 2   sentiment          10254 non-null  object\n",
            " 3   comment_published  10254 non-null  object\n",
            "dtypes: int64(1), object(3)\n",
            "memory usage: 320.6+ KB\n"
          ]
        }
      ]
    },
    {
      "cell_type": "code",
      "source": [
        "# check for missing values\n",
        "df.isnull().sum()"
      ],
      "metadata": {
        "colab": {
          "base_uri": "https://localhost:8080/",
          "height": 209
        },
        "id": "TZH2Ntl1Ne9o",
        "outputId": "1a942133-e10f-44b9-c025-090a40c36d3f"
      },
      "execution_count": null,
      "outputs": [
        {
          "output_type": "execute_result",
          "data": {
            "text/plain": [
              "index                0\n",
              "comment_message      0\n",
              "sentiment            0\n",
              "comment_published    0\n",
              "dtype: int64"
            ],
            "text/html": [
              "<div>\n",
              "<style scoped>\n",
              "    .dataframe tbody tr th:only-of-type {\n",
              "        vertical-align: middle;\n",
              "    }\n",
              "\n",
              "    .dataframe tbody tr th {\n",
              "        vertical-align: top;\n",
              "    }\n",
              "\n",
              "    .dataframe thead th {\n",
              "        text-align: right;\n",
              "    }\n",
              "</style>\n",
              "<table border=\"1\" class=\"dataframe\">\n",
              "  <thead>\n",
              "    <tr style=\"text-align: right;\">\n",
              "      <th></th>\n",
              "      <th>0</th>\n",
              "    </tr>\n",
              "  </thead>\n",
              "  <tbody>\n",
              "    <tr>\n",
              "      <th>index</th>\n",
              "      <td>0</td>\n",
              "    </tr>\n",
              "    <tr>\n",
              "      <th>comment_message</th>\n",
              "      <td>0</td>\n",
              "    </tr>\n",
              "    <tr>\n",
              "      <th>sentiment</th>\n",
              "      <td>0</td>\n",
              "    </tr>\n",
              "    <tr>\n",
              "      <th>comment_published</th>\n",
              "      <td>0</td>\n",
              "    </tr>\n",
              "  </tbody>\n",
              "</table>\n",
              "</div><br><label><b>dtype:</b> int64</label>"
            ]
          },
          "metadata": {},
          "execution_count": 6
        }
      ]
    },
    {
      "cell_type": "code",
      "source": [
        "# Check for the class balance\n",
        "df['sentiment'].value_counts(normalize=True)"
      ],
      "metadata": {
        "colab": {
          "base_uri": "https://localhost:8080/",
          "height": 178
        },
        "id": "6Q3s9rOpQexk",
        "outputId": "536d47d8-6b05-48c8-96f5-0d16b71a87bd"
      },
      "execution_count": null,
      "outputs": [
        {
          "output_type": "execute_result",
          "data": {
            "text/plain": [
              "sentiment\n",
              "N    0.641798\n",
              "P    0.358202\n",
              "Name: proportion, dtype: float64"
            ],
            "text/html": [
              "<div>\n",
              "<style scoped>\n",
              "    .dataframe tbody tr th:only-of-type {\n",
              "        vertical-align: middle;\n",
              "    }\n",
              "\n",
              "    .dataframe tbody tr th {\n",
              "        vertical-align: top;\n",
              "    }\n",
              "\n",
              "    .dataframe thead th {\n",
              "        text-align: right;\n",
              "    }\n",
              "</style>\n",
              "<table border=\"1\" class=\"dataframe\">\n",
              "  <thead>\n",
              "    <tr style=\"text-align: right;\">\n",
              "      <th></th>\n",
              "      <th>proportion</th>\n",
              "    </tr>\n",
              "    <tr>\n",
              "      <th>sentiment</th>\n",
              "      <th></th>\n",
              "    </tr>\n",
              "  </thead>\n",
              "  <tbody>\n",
              "    <tr>\n",
              "      <th>N</th>\n",
              "      <td>0.641798</td>\n",
              "    </tr>\n",
              "    <tr>\n",
              "      <th>P</th>\n",
              "      <td>0.358202</td>\n",
              "    </tr>\n",
              "  </tbody>\n",
              "</table>\n",
              "</div><br><label><b>dtype:</b> float64</label>"
            ]
          },
          "metadata": {},
          "execution_count": 7
        }
      ]
    },
    {
      "cell_type": "code",
      "source": [
        "# plot the label counts\n",
        "df['sentiment'].value_counts().plot(kind='bar')"
      ],
      "metadata": {
        "colab": {
          "base_uri": "https://localhost:8080/",
          "height": 463
        },
        "id": "bTJ8C3dAQl6s",
        "outputId": "7d7badfb-9fbc-46c4-9ce5-30cca204d04e"
      },
      "execution_count": null,
      "outputs": [
        {
          "output_type": "execute_result",
          "data": {
            "text/plain": [
              "<Axes: xlabel='sentiment'>"
            ]
          },
          "metadata": {},
          "execution_count": 8
        },
        {
          "output_type": "display_data",
          "data": {
            "text/plain": [
              "<Figure size 640x480 with 1 Axes>"
            ],
            "image/png": "[encoded data removed]"
          },
          "metadata": {}
        }
      ]
    },
    {
      "cell_type": "markdown",
      "source": [
        "## 3. Data Cleaning and visualization"
      ],
      "metadata": {
        "id": "NivXU382QvXF"
      }
    },
    {
      "cell_type": "code",
      "source": [
        "df.drop(columns=['index','comment_published'], inplace=True)"
      ],
      "metadata": {
        "id": "fHfhPMHs6grS"
      },
      "execution_count": null,
      "outputs": []
    },
    {
      "cell_type": "code",
      "source": [
        "df.columns = ['text', 'label']"
      ],
      "metadata": {
        "id": "WjAg4DcZQ1kI"
      },
      "execution_count": null,
      "outputs": []
    },
    {
      "cell_type": "code",
      "source": [
        "# Mapping 'pos' to 0 and 'neg' to 1\n",
        "df['label'] = df['label'].map({'N': 0, 'P': 1})"
      ],
      "metadata": {
        "id": "TBJZWXVTNSEi"
      },
      "execution_count": null,
      "outputs": []
    },
    {
      "cell_type": "code",
      "execution_count": null,
      "metadata": {
        "colab": {
          "base_uri": "https://localhost:8080/",
          "height": 206
        },
        "id": "0ebHFgHARQEH",
        "outputId": "35e3f866-7978-4eb0-dbd5-40707a0db7ab"
      },
      "outputs": [
        {
          "output_type": "execute_result",
          "data": {
            "text/plain": [
              "                                                text  label\n",
              "0  البكاء ليس سمت الرجال ..البكاء سلطة الضعفاء لك...      0\n",
              "1  كلنا بنكيران\\nولاية ثانية ان شاء الله\\nموتوا ب...      1\n",
              "2  الشركات في الدول المتقدمة تساهم في بناء أوطانه...      0\n",
              "3  من ينتقد بن كران هم خصوم معارضة لى خاصها هي سل...      0\n",
              "4  هدو صحاب بام توجدو راسهوم بغين اعفاءات ضريبية ...      0"
            ],
            "text/html": [
              "\n",
              "  <div id=\"df-9c679454-9bda-49cd-96b7-a7f0a25c0f92\" class=\"colab-df-container\">\n",
              "    <div>\n",
              "<style scoped>\n",
              "    .dataframe tbody tr th:only-of-type {\n",
              "        vertical-align: middle;\n",
              "    }\n",
              "\n",
              "    .dataframe tbody tr th {\n",
              "        vertical-align: top;\n",
              "    }\n",
              "\n",
              "    .dataframe thead th {\n",
              "        text-align: right;\n",
              "    }\n",
              "</style>\n",
              "<table border=\"1\" class=\"dataframe\">\n",
              "  <thead>\n",
              "    <tr style=\"text-align: right;\">\n",
              "      <th></th>\n",
              "      <th>text</th>\n",
              "      <th>label</th>\n",
              "    </tr>\n",
              "  </thead>\n",
              "  <tbody>\n",
              "    <tr>\n",
              "      <th>0</th>\n",
              "      <td>البكاء ليس سمت الرجال ..البكاء سلطة الضعفاء لك...</td>\n",
              "      <td>0</td>\n",
              "    </tr>\n",
              "    <tr>\n",
              "      <th>1</th>\n",
              "      <td>كلنا بنكيران\\nولاية ثانية ان شاء الله\\nموتوا ب...</td>\n",
              "      <td>1</td>\n",
              "    </tr>\n",
              "    <tr>\n",
              "      <th>2</th>\n",
              "      <td>الشركات في الدول المتقدمة تساهم في بناء أوطانه...</td>\n",
              "      <td>0</td>\n",
              "    </tr>\n",
              "    <tr>\n",
              "      <th>3</th>\n",
              "      <td>من ينتقد بن كران هم خصوم معارضة لى خاصها هي سل...</td>\n",
              "      <td>0</td>\n",
              "    </tr>\n",
              "    <tr>\n",
              "      <th>4</th>\n",
              "      <td>هدو صحاب بام توجدو راسهوم بغين اعفاءات ضريبية ...</td>\n",
              "      <td>0</td>\n",
              "    </tr>\n",
              "  </tbody>\n",
              "</table>\n",
              "</div>\n",
              "    <div class=\"colab-df-buttons\">\n",
              "\n",
              "  <div class=\"colab-df-container\">\n",
              "    <button class=\"colab-df-convert\" onclick=\"convertToInteractive('df-9c679454-9bda-49cd-96b7-a7f0a25c0f92')\"\n",
              "            title=\"Convert this dataframe to an interactive table.\"\n",
              "            style=\"display:none;\">\n",
              "\n",
              "  <svg xmlns=\"http://www.w3.org/2000/svg\" height=\"24px\" viewBox=\"0 -960 960 960\">\n",
              "    <path d=\"M120-120v-720h720v720H120Zm60-500h600v-160H180v160Zm220 220h160v-160H400v160Zm0 220h160v-160H400v160ZM180-400h160v-160H180v160Zm440 0h160v-160H620v160ZM180-180h160v-160H180v160Zm440 0h160v-160H620v160Z\"/>\n",
              "  </svg>\n",
              "    </button>\n",
              "\n",
              "  <style>\n",
              "    .colab-df-container {\n",
              "      display:flex;\n",
              "      gap: 12px;\n",
              "    }\n",
              "\n",
              "    .colab-df-convert {\n",
              "      background-color: #E8F0FE;\n",
              "      border: none;\n",
              "      border-radius: 50%;\n",
              "      cursor: pointer;\n",
              "      display: none;\n",
              "      fill: #1967D2;\n",
              "      height: 32px;\n",
              "      padding: 0 0 0 0;\n",
              "      width: 32px;\n",
              "    }\n",
              "\n",
              "    .colab-df-convert:hover {\n",
              "      background-color: #E2EBFA;\n",
              "      box-shadow: 0px 1px 2px rgba(60, 64, 67, 0.3), 0px 1px 3px 1px rgba(60, 64, 67, 0.15);\n",
              "      fill: #174EA6;\n",
              "    }\n",
              "\n",
              "    .colab-df-buttons div {\n",
              "      margin-bottom: 4px;\n",
              "    }\n",
              "\n",
              "    [theme=dark] .colab-df-convert {\n",
              "      background-color: #3B4455;\n",
              "      fill: #D2E3FC;\n",
              "    }\n",
              "\n",
              "    [theme=dark] .colab-df-convert:hover {\n",
              "      background-color: #434B5C;\n",
              "      box-shadow: 0px 1px 3px 1px rgba(0, 0, 0, 0.15);\n",
              "      filter: drop-shadow(0px 1px 2px rgba(0, 0, 0, 0.3));\n",
              "      fill: #FFFFFF;\n",
              "    }\n",
              "  </style>\n",
              "\n",
              "    <script>\n",
              "      const buttonEl =\n",
              "        document.querySelector('#df-9c679454-9bda-49cd-96b7-a7f0a25c0f92 button.colab-df-convert');\n",
              "      buttonEl.style.display =\n",
              "        google.colab.kernel.accessAllowed ? 'block' : 'none';\n",
              "\n",
              "      async function convertToInteractive(key) {\n",
              "        const element = document.querySelector('#df-9c679454-9bda-49cd-96b7-a7f0a25c0f92');\n",
              "        const dataTable =\n",
              "          await google.colab.kernel.invokeFunction('convertToInteractive',\n",
              "                                                    [key], {});\n",
              "        if (!dataTable) return;\n",
              "\n",
              "        const docLinkHtml = 'Like what you see? Visit the ' +\n",
              "          '<a target=\"_blank\" href=https://colab.research.google.com/notebooks/data_table.ipynb>data table notebook</a>'\n",
              "          + ' to learn more about interactive tables.';\n",
              "        element.innerHTML = '';\n",
              "        dataTable['output_type'] = 'display_data';\n",
              "        await google.colab.output.renderOutput(dataTable, element);\n",
              "        const docLink = document.createElement('div');\n",
              "        docLink.innerHTML = docLinkHtml;\n",
              "        element.appendChild(docLink);\n",
              "      }\n",
              "    </script>\n",
              "  </div>\n",
              "\n",
              "\n",
              "<div id=\"df-66046d62-3812-4fa1-8e80-9f603c59b9f5\">\n",
              "  <button class=\"colab-df-quickchart\" onclick=\"quickchart('df-66046d62-3812-4fa1-8e80-9f603c59b9f5')\"\n",
              "            title=\"Suggest charts\"\n",
              "            style=\"display:none;\">\n",
              "\n",
              "<svg xmlns=\"http://www.w3.org/2000/svg\" height=\"24px\"viewBox=\"0 0 24 24\"\n",
              "     width=\"24px\">\n",
              "    <g>\n",
              "        <path d=\"M19 3H5c-1.1 0-2 .9-2 2v14c0 1.1.9 2 2 2h14c1.1 0 2-.9 2-2V5c0-1.1-.9-2-2-2zM9 17H7v-7h2v7zm4 0h-2V7h2v10zm4 0h-2v-4h2v4z\"/>\n",
              "    </g>\n",
              "</svg>\n",
              "  </button>\n",
              "\n",
              "<style>\n",
              "  .colab-df-quickchart {\n",
              "      --bg-color: #E8F0FE;\n",
              "      --fill-color: #1967D2;\n",
              "      --hover-bg-color: #E2EBFA;\n",
              "      --hover-fill-color: #174EA6;\n",
              "      --disabled-fill-color: #AAA;\n",
              "      --disabled-bg-color: #DDD;\n",
              "  }\n",
              "\n",
              "  [theme=dark] .colab-df-quickchart {\n",
              "      --bg-color: #3B4455;\n",
              "      --fill-color: #D2E3FC;\n",
              "      --hover-bg-color: #434B5C;\n",
              "      --hover-fill-color: #FFFFFF;\n",
              "      --disabled-bg-color: #3B4455;\n",
              "      --disabled-fill-color: #666;\n",
              "  }\n",
              "\n",
              "  .colab-df-quickchart {\n",
              "    background-color: var(--bg-color);\n",
              "    border: none;\n",
              "    border-radius: 50%;\n",
              "    cursor: pointer;\n",
              "    display: none;\n",
              "    fill: var(--fill-color);\n",
              "    height: 32px;\n",
              "    padding: 0;\n",
              "    width: 32px;\n",
              "  }\n",
              "\n",
              "  .colab-df-quickchart:hover {\n",
              "    background-color: var(--hover-bg-color);\n",
              "    box-shadow: 0 1px 2px rgba(60, 64, 67, 0.3), 0 1px 3px 1px rgba(60, 64, 67, 0.15);\n",
              "    fill: var(--button-hover-fill-color);\n",
              "  }\n",
              "\n",
              "  .colab-df-quickchart-complete:disabled,\n",
              "  .colab-df-quickchart-complete:disabled:hover {\n",
              "    background-color: var(--disabled-bg-color);\n",
              "    fill: var(--disabled-fill-color);\n",
              "    box-shadow: none;\n",
              "  }\n",
              "\n",
              "  .colab-df-spinner {\n",
              "    border: 2px solid var(--fill-color);\n",
              "    border-color: transparent;\n",
              "    border-bottom-color: var(--fill-color);\n",
              "    animation:\n",
              "      spin 1s steps(1) infinite;\n",
              "  }\n",
              "\n",
              "  @keyframes spin {\n",
              "    0% {\n",
              "      border-color: transparent;\n",
              "      border-bottom-color: var(--fill-color);\n",
              "      border-left-color: var(--fill-color);\n",
              "    }\n",
              "    20% {\n",
              "      border-color: transparent;\n",
              "      border-left-color: var(--fill-color);\n",
              "      border-top-color: var(--fill-color);\n",
              "    }\n",
              "    30% {\n",
              "      border-color: transparent;\n",
              "      border-left-color: var(--fill-color);\n",
              "      border-top-color: var(--fill-color);\n",
              "      border-right-color: var(--fill-color);\n",
              "    }\n",
              "    40% {\n",
              "      border-color: transparent;\n",
              "      border-right-color: var(--fill-color);\n",
              "      border-top-color: var(--fill-color);\n",
              "    }\n",
              "    60% {\n",
              "      border-color: transparent;\n",
              "      border-right-color: var(--fill-color);\n",
              "    }\n",
              "    80% {\n",
              "      border-color: transparent;\n",
              "      border-right-color: var(--fill-color);\n",
              "      border-bottom-color: var(--fill-color);\n",
              "    }\n",
              "    90% {\n",
              "      border-color: transparent;\n",
              "      border-bottom-color: var(--fill-color);\n",
              "    }\n",
              "  }\n",
              "</style>\n",
              "\n",
              "  <script>\n",
              "    async function quickchart(key) {\n",
              "      const quickchartButtonEl =\n",
              "        document.querySelector('#' + key + ' button');\n",
              "      quickchartButtonEl.disabled = true;  // To prevent multiple clicks.\n",
              "      quickchartButtonEl.classList.add('colab-df-spinner');\n",
              "      try {\n",
              "        const charts = await google.colab.kernel.invokeFunction(\n",
              "            'suggestCharts', [key], {});\n",
              "      } catch (error) {\n",
              "        console.error('Error during call to suggestCharts:', error);\n",
              "      }\n",
              "      quickchartButtonEl.classList.remove('colab-df-spinner');\n",
              "      quickchartButtonEl.classList.add('colab-df-quickchart-complete');\n",
              "    }\n",
              "    (() => {\n",
              "      let quickchartButtonEl =\n",
              "        document.querySelector('#df-66046d62-3812-4fa1-8e80-9f603c59b9f5 button');\n",
              "      quickchartButtonEl.style.display =\n",
              "        google.colab.kernel.accessAllowed ? 'block' : 'none';\n",
              "    })();\n",
              "  </script>\n",
              "</div>\n",
              "\n",
              "    </div>\n",
              "  </div>\n"
            ],
            "application/vnd.google.colaboratory.intrinsic+json": {
              "type": "dataframe",
              "variable_name": "df",
              "summary": "{\n  \"name\": \"df\",\n  \"rows\": 10254,\n  \"fields\": [\n    {\n      \"column\": \"text\",\n      \"properties\": {\n        \"dtype\": \"string\",\n        \"num_unique_values\": 10254,\n        \"samples\": [\n          \"\\u0644\\u0627\\u062a\\u062d\\u0632\\u0646\\u0648 \\u064a\\u0627 \\u0627\\u062e\\u0648\\u0627\\u0646\\u064a \\u0641\\u0642\\u0637 \\u0647\\u0630\\u0647 \\u062f\\u0645\\u0648\\u0639 \\u062a\\u0645\\u0627\\u0633\\u064a\\u062d \\u064a\\u062f\\u0631\\u064a\\u0641\\u0647\\u0627 \\u0628\\u0646\\u0643\\u064a\\u0631\\u0627\\u0646 \\u0644\\u0643\\u064a \\u064a\\u0635\\u0644 \\u0625\\u0644\\u0649 \\u0641\\u0631\\u064a\\u0633\\u062a\\u0647 ( \\u062d\\u0646\\u0627\\u0646 \\u0627\\u0644\\u0634\\u0639\\u0628 )\",\n          \"Abid Makhlouk  \\u0646\\u062a\\u0627 \\u0627\\u0644\\u0644\\u064a \\u0633\\u064a\\u0631 \\u0642\\u0631\\u0627 \\u0627\\u0644\\u0645\\u0648\\u0636\\u0648\\u0639 ...\\u0631\\u0627\\u0647 \\u0628\\u062a\\u0632\\u0643\\u064a\\u0629 \\u0645\\u0646 \\u0639\\u0646\\u062f \\u0627\\u0644\\u0636\\u0628\\u0639 \\u0628\\u0646\\u0643\\u064a\\u0631\\u0627\\u0646 \\u062a\\u0645 \\u062a\\u0637\\u0628\\u064a\\u0642 \\u0627\\u0644\\u0642\\u0631\\u0627\\u0631\",\n          \"\\u0648 \\u0627\\u0644\\u0645\\u0634\\u0643\\u0644 \\u062d\\u0627\\u0643\\u0645 \\u0627\\u0644\\u0628\\u0644\\u0627\\u062f \\u062a\\u064a\\u0633\\u0648\\u0644 \\u0623\\u064a\\u0646 \\u0627\\u0644\\u062a\\u0631\\u0648\\u062a \\u061f\\u061f\\u061f! \\u062a\\u0646\\u0645\\u0634\\u064a\\u0648 \\u0646\\u0633\\u0648\\u0644\\u0648 \\u0631\\u0626\\u064a\\u0633 \\u0627\\u0644\\u062d\\u0643\\u0648\\u0645\\u0629 .\\u0623\\u064a\\u0646 \\u0647\\u064a \\u0627\\u0644\\u062a\\u0631\\u0648\\u062a \\u061f \\u062a\\u064a\\u0642\\u0648\\u0644\\u064a\\u0643 \\u0648\\u0622\\u0644\\u0644\\u0647 \\u0645\\u0641\\u0631\\u0627\\u0633\\u064a !! \\u0645\\u0634\\u064a \\u0627\\u0644\\u0647\\u0628\\u0627\\u0644 \\u0647\\u062f\\u0627 .\"\n        ],\n        \"semantic_type\": \"\",\n        \"description\": \"\"\n      }\n    },\n    {\n      \"column\": \"label\",\n      \"properties\": {\n        \"dtype\": \"number\",\n        \"std\": 0,\n        \"min\": 0,\n        \"max\": 1,\n        \"num_unique_values\": 2,\n        \"samples\": [\n          1,\n          0\n        ],\n        \"semantic_type\": \"\",\n        \"description\": \"\"\n      }\n    }\n  ]\n}"
            }
          },
          "metadata": {},
          "execution_count": 12
        }
      ],
      "source": [
        "df.head()"
      ]
    },
    {
      "cell_type": "markdown",
      "source": [
        "**Data with no cleaning**"
      ],
      "metadata": {
        "id": "NtmywN05dZYs"
      }
    },
    {
      "cell_type": "code",
      "source": [
        "#collect all the words from all the comments into a single list\n",
        "all_words = []\n",
        "for t in df['text']:\n",
        "    all_words.extend(t.split())\n",
        "\n",
        "print(all_words[:50])\n",
        "len(set(all_words)) # this is the number of unique words in the list"
      ],
      "metadata": {
        "colab": {
          "base_uri": "https://localhost:8080/"
        },
        "id": "ynq61Sq5SPwT",
        "outputId": "35aba4b7-dd1a-4415-ffe5-c5c841487c4d"
      },
      "execution_count": null,
      "outputs": [
        {
          "output_type": "stream",
          "name": "stdout",
          "text": [
            "['البكاء', 'ليس', 'سمت', 'الرجال', '..البكاء', 'سلطة', 'الضعفاء', 'لكسب', 'التعاطف', '..انا', 'لست', 'ضد', 'بنكيران', 'وانما', 'الرجل', 'الصالح', 'هو', 'الذي', 'يفعل', 'ما', 'يقول', 'ولا', 'يبكي', 'الا', 'عند', 'النصر', 'كلنا', 'بنكيران', 'ولاية', 'ثانية', 'ان', 'شاء', 'الله', 'موتوا', 'بحقدكم', 'الشركات', 'في', 'الدول', 'المتقدمة', 'تساهم', 'في', 'بناء', 'أوطانها', 'بدفع', 'الضرائب', 'وفي', 'بلدنا', 'العزيز', 'الشركات', 'تطلب']\n"
          ]
        },
        {
          "output_type": "execute_result",
          "data": {
            "text/plain": [
              "40627"
            ]
          },
          "metadata": {},
          "execution_count": 13
        }
      ]
    },
    {
      "cell_type": "code",
      "source": [
        "pip install arabic-reshaper python-bidi"
      ],
      "metadata": {
        "colab": {
          "base_uri": "https://localhost:8080/"
        },
        "id": "ZMIfkXgRYFsF",
        "outputId": "df30ae3d-8db4-4165-9a59-f7acb56e24c9"
      },
      "execution_count": null,
      "outputs": [
        {
          "output_type": "stream",
          "name": "stdout",
          "text": [
            "Collecting arabic-reshaper\n",
            "  Downloading arabic_reshaper-3.0.0-py3-none-any.whl.metadata (12 kB)\n",
            "Collecting python-bidi\n",
            "  Downloading python_bidi-0.6.3-cp311-cp311-manylinux_2_17_x86_64.manylinux2014_x86_64.whl.metadata (4.9 kB)\n",
            "Downloading arabic_reshaper-3.0.0-py3-none-any.whl (20 kB)\n",
            "Downloading python_bidi-0.6.3-cp311-cp311-manylinux_2_17_x86_64.manylinux2014_x86_64.whl (286 kB)\n",
            "\u001b[2K   \u001b[90m━━━━━━━━━━━━━━━━━━━━━━━━━━━━━━━━━━━━━━━━\u001b[0m \u001b[32m286.6/286.6 kB\u001b[0m \u001b[31m20.0 MB/s\u001b[0m eta \u001b[36m0:00:00\u001b[0m\n",
            "\u001b[?25hInstalling collected packages: python-bidi, arabic-reshaper\n",
            "Successfully installed arabic-reshaper-3.0.0 python-bidi-0.6.3\n"
          ]
        }
      ]
    },
    {
      "cell_type": "code",
      "source": [
        "import matplotlib.pyplot as plt\n",
        "from collections import Counter\n",
        "import arabic_reshaper\n",
        "from bidi.algorithm import get_display\n",
        "\n",
        "# Collect all the words from all the tweets\n",
        "all_words = []\n",
        "for t in df['text']:\n",
        "    all_words.extend(t.split())\n",
        "\n",
        "# Use Counter to count frequencies of each word\n",
        "word_freq = Counter(all_words)\n",
        "\n",
        "# Get the 25 most common words\n",
        "most_common_25 = word_freq.most_common(35)\n",
        "\n",
        "# Separate the words and their frequencies for plotting\n",
        "words, freqs = zip(*most_common_25)\n",
        "\n",
        "# Reshape and reorder Arabic text for proper display\n",
        "reshaped_words = [get_display(arabic_reshaper.reshape(word)) for word in words]\n",
        "\n",
        "# Plot the 25 most frequent words\n",
        "plt.figure(figsize=(12, 5))\n",
        "plt.bar(reshaped_words, freqs, color='skyblue')\n",
        "plt.title('Top 25 Most Common Words', fontsize=15)\n",
        "plt.xlabel('Words', fontsize=12)\n",
        "plt.ylabel('Frequency', fontsize=12)\n",
        "plt.xticks(rotation=45, ha='right', fontsize=12)\n",
        "plt.tight_layout()\n",
        "plt.show()"
      ],
      "metadata": {
        "colab": {
          "base_uri": "https://localhost:8080/",
          "height": 580
        },
        "id": "bNxhy1g3YIog",
        "outputId": "591c9f43-4e51-4ffb-83c4-412ec3202346"
      },
      "execution_count": null,
      "outputs": [
        {
          "output_type": "stream",
          "name": "stderr",
          "text": [
            "<ipython-input-15-cd3eec3f89e1>:30: UserWarning: Glyph 65010 (\\N{ARABIC LIGATURE ALLAH ISOLATED FORM}) missing from font(s) DejaVu Sans.\n",
            "  plt.tight_layout()\n",
            "/usr/local/lib/python3.11/dist-packages/IPython/core/pylabtools.py:151: UserWarning: Glyph 65010 (\\N{ARABIC LIGATURE ALLAH ISOLATED FORM}) missing from font(s) DejaVu Sans.\n",
            "  fig.canvas.print_figure(bytes_io, **kw)\n"
          ]
        },
        {
          "output_type": "display_data",
          "data": {
            "text/plain": [
              "<Figure size 1200x500 with 1 Axes>"
            ],
            "image/png": "[encoded data removed]"
          },
          "metadata": {}
        }
      ]
    },
    {
      "cell_type": "markdown",
      "source": [
        "**data cleaned with stop words**"
      ],
      "metadata": {
        "id": "-cUi5h53oaBB"
      }
    },
    {
      "cell_type": "code",
      "source": [
        "\n",
        "def text_cleaner_with_stopwords_darija(text):\n",
        "    # Remove mentions (e.g., @username)\n",
        "    new_text = re.sub(r\"@[A-Za-z0-9_]+\", \"\", text)\n",
        "\n",
        "    # Remove hashtags (but keep the word after the hashtag)\n",
        "    new_text = re.sub(\"#\", \"\", new_text)\n",
        "\n",
        "    # Remove URLs\n",
        "    new_text = re.sub(r\"http\\S+\", \"\", new_text)\n",
        "\n",
        "    # Remove any non-Arabic characters (keeping spaces and Arabic letters)\n",
        "    new_text = re.sub(r\"[^\\u0621-\\u064A\\s]\", \"\", new_text)  # Unicode range for Arabic script\n",
        "\n",
        "    # Remove newline characters, tabs, and carriage returns\n",
        "    new_text = re.sub(r\"[\\n\\r\\t]\", \" \", new_text)  # Replace \\n, \\r, \\t with a space\n",
        "\n",
        "    # Replace multiple consecutive spaces with a single space\n",
        "    new_text = re.sub(r\"\\s+\", \" \", new_text)\n",
        "\n",
        "    # Remove short words (length <= 2)\n",
        "    new_text = [token for token in new_text.split() if len(token) > 2]\n",
        "\n",
        "    # Join the cleaned tokens back into a single string\n",
        "    new_text = \" \".join(new_text).strip()  # Strip leading/trailing spaces\n",
        "\n",
        "    return new_text"
      ],
      "metadata": {
        "id": "8_8TDgDFbqOS"
      },
      "execution_count": null,
      "outputs": []
    },
    {
      "cell_type": "code",
      "source": [
        "cleaned_text_with_stopwords = list(df['text'].apply(text_cleaner_with_stopwords_darija))\n",
        "print(cleaned_text_with_stopwords[:10])"
      ],
      "metadata": {
        "colab": {
          "base_uri": "https://localhost:8080/"
        },
        "id": "cIrapEPFojh1",
        "outputId": "8a191ea1-86de-45c3-d8f2-eb4c6fc7810c"
      },
      "execution_count": null,
      "outputs": [
        {
          "output_type": "stream",
          "name": "stdout",
          "text": [
            "['البكاء ليس سمت الرجال البكاء سلطة الضعفاء لكسب التعاطف انا لست بنكيران وانما الرجل الصالح الذي يفعل يقول ولا يبكي الا عند النصر', 'كلنا بنكيران ولاية ثانية شاء الله موتوا بحقدكم', 'الشركات الدول المتقدمة تساهم بناء أوطانها بدفع الضرائب وفي بلدنا العزيز الشركات تطلب الدولة تخدم عليها', 'ينتقد كران خصوم معارضة خاصها سلطة تهتم لوضعية مواطن', 'هدو صحاب بام توجدو راسهوم بغين اعفاءات ضريبية لهوم هما ويزيدها على فقراء يزدو ليه فلعشا مشى بطروناج شدها حزب البام مشيتو فيها المغاربة', 'نظرك الحكومات السابقة كانت احسن اتقوا الله وانظروا إلى المحاسن الى المساولا نسيتوا مضى الاستقلالاين الاشتراكيين', 'رئيس الحكومة يمر بتجربة صعبة للغاية فرغم التحديات والصعوبات والمواجهات التماسيح والعفاريت فشعبيته تزايد فالحق يعلى ولا يعلى عليه', 'مستوى االعيش بلادنا مثل فرنسا يونان اسبانيا لنقوم بسياسة تقشفهمادلتكم زاءفة كالعادة', 'احسن حكومة المغرب ساصوت على العدالة والتنمية اناس شرفاء يسرقوا بلدنا النصر حليفهم شاء الله', 'المنافقين هما البام مزال معرفتهم كيسواو ينجحوا وعاد تعرفهم على حقيقتهم']\n"
          ]
        }
      ]
    },
    {
      "cell_type": "code",
      "source": [
        "df['cleaned_text_with_stopwords'] = cleaned_text_with_stopwords\n",
        "df.head()"
      ],
      "metadata": {
        "colab": {
          "base_uri": "https://localhost:8080/",
          "height": 206
        },
        "id": "-ZRJONjcc0-Q",
        "outputId": "dfc75b07-d120-4f50-8f78-694b4e4700a7"
      },
      "execution_count": null,
      "outputs": [
        {
          "output_type": "execute_result",
          "data": {
            "text/plain": [
              "                                                text  label  \\\n",
              "0  البكاء ليس سمت الرجال ..البكاء سلطة الضعفاء لك...      0   \n",
              "1  كلنا بنكيران\\nولاية ثانية ان شاء الله\\nموتوا ب...      1   \n",
              "2  الشركات في الدول المتقدمة تساهم في بناء أوطانه...      0   \n",
              "3  من ينتقد بن كران هم خصوم معارضة لى خاصها هي سل...      0   \n",
              "4  هدو صحاب بام توجدو راسهوم بغين اعفاءات ضريبية ...      0   \n",
              "\n",
              "                         cleaned_text_with_stopwords  \n",
              "0  البكاء ليس سمت الرجال البكاء سلطة الضعفاء لكسب...  \n",
              "1     كلنا بنكيران ولاية ثانية شاء الله موتوا بحقدكم  \n",
              "2  الشركات الدول المتقدمة تساهم بناء أوطانها بدفع...  \n",
              "3  ينتقد كران خصوم معارضة خاصها سلطة تهتم لوضعية ...  \n",
              "4  هدو صحاب بام توجدو راسهوم بغين اعفاءات ضريبية ...  "
            ],
            "text/html": [
              "\n",
              "  <div id=\"df-f48759c0-fa0c-420b-af28-5ad8889719a4\" class=\"colab-df-container\">\n",
              "    <div>\n",
              "<style scoped>\n",
              "    .dataframe tbody tr th:only-of-type {\n",
              "        vertical-align: middle;\n",
              "    }\n",
              "\n",
              "    .dataframe tbody tr th {\n",
              "        vertical-align: top;\n",
              "    }\n",
              "\n",
              "    .dataframe thead th {\n",
              "        text-align: right;\n",
              "    }\n",
              "</style>\n",
              "<table border=\"1\" class=\"dataframe\">\n",
              "  <thead>\n",
              "    <tr style=\"text-align: right;\">\n",
              "      <th></th>\n",
              "      <th>text</th>\n",
              "      <th>label</th>\n",
              "      <th>cleaned_text_with_stopwords</th>\n",
              "    </tr>\n",
              "  </thead>\n",
              "  <tbody>\n",
              "    <tr>\n",
              "      <th>0</th>\n",
              "      <td>البكاء ليس سمت الرجال ..البكاء سلطة الضعفاء لك...</td>\n",
              "      <td>0</td>\n",
              "      <td>البكاء ليس سمت الرجال البكاء سلطة الضعفاء لكسب...</td>\n",
              "    </tr>\n",
              "    <tr>\n",
              "      <th>1</th>\n",
              "      <td>كلنا بنكيران\\nولاية ثانية ان شاء الله\\nموتوا ب...</td>\n",
              "      <td>1</td>\n",
              "      <td>كلنا بنكيران ولاية ثانية شاء الله موتوا بحقدكم</td>\n",
              "    </tr>\n",
              "    <tr>\n",
              "      <th>2</th>\n",
              "      <td>الشركات في الدول المتقدمة تساهم في بناء أوطانه...</td>\n",
              "      <td>0</td>\n",
              "      <td>الشركات الدول المتقدمة تساهم بناء أوطانها بدفع...</td>\n",
              "    </tr>\n",
              "    <tr>\n",
              "      <th>3</th>\n",
              "      <td>من ينتقد بن كران هم خصوم معارضة لى خاصها هي سل...</td>\n",
              "      <td>0</td>\n",
              "      <td>ينتقد كران خصوم معارضة خاصها سلطة تهتم لوضعية ...</td>\n",
              "    </tr>\n",
              "    <tr>\n",
              "      <th>4</th>\n",
              "      <td>هدو صحاب بام توجدو راسهوم بغين اعفاءات ضريبية ...</td>\n",
              "      <td>0</td>\n",
              "      <td>هدو صحاب بام توجدو راسهوم بغين اعفاءات ضريبية ...</td>\n",
              "    </tr>\n",
              "  </tbody>\n",
              "</table>\n",
              "</div>\n",
              "    <div class=\"colab-df-buttons\">\n",
              "\n",
              "  <div class=\"colab-df-container\">\n",
              "    <button class=\"colab-df-convert\" onclick=\"convertToInteractive('df-f48759c0-fa0c-420b-af28-5ad8889719a4')\"\n",
              "            title=\"Convert this dataframe to an interactive table.\"\n",
              "            style=\"display:none;\">\n",
              "\n",
              "  <svg xmlns=\"http://www.w3.org/2000/svg\" height=\"24px\" viewBox=\"0 -960 960 960\">\n",
              "    <path d=\"M120-120v-720h720v720H120Zm60-500h600v-160H180v160Zm220 220h160v-160H400v160Zm0 220h160v-160H400v160ZM180-400h160v-160H180v160Zm440 0h160v-160H620v160ZM180-180h160v-160H180v160Zm440 0h160v-160H620v160Z\"/>\n",
              "  </svg>\n",
              "    </button>\n",
              "\n",
              "  <style>\n",
              "    .colab-df-container {\n",
              "      display:flex;\n",
              "      gap: 12px;\n",
              "    }\n",
              "\n",
              "    .colab-df-convert {\n",
              "      background-color: #E8F0FE;\n",
              "      border: none;\n",
              "      border-radius: 50%;\n",
              "      cursor: pointer;\n",
              "      display: none;\n",
              "      fill: #1967D2;\n",
              "      height: 32px;\n",
              "      padding: 0 0 0 0;\n",
              "      width: 32px;\n",
              "    }\n",
              "\n",
              "    .colab-df-convert:hover {\n",
              "      background-color: #E2EBFA;\n",
              "      box-shadow: 0px 1px 2px rgba(60, 64, 67, 0.3), 0px 1px 3px 1px rgba(60, 64, 67, 0.15);\n",
              "      fill: #174EA6;\n",
              "    }\n",
              "\n",
              "    .colab-df-buttons div {\n",
              "      margin-bottom: 4px;\n",
              "    }\n",
              "\n",
              "    [theme=dark] .colab-df-convert {\n",
              "      background-color: #3B4455;\n",
              "      fill: #D2E3FC;\n",
              "    }\n",
              "\n",
              "    [theme=dark] .colab-df-convert:hover {\n",
              "      background-color: #434B5C;\n",
              "      box-shadow: 0px 1px 3px 1px rgba(0, 0, 0, 0.15);\n",
              "      filter: drop-shadow(0px 1px 2px rgba(0, 0, 0, 0.3));\n",
              "      fill: #FFFFFF;\n",
              "    }\n",
              "  </style>\n",
              "\n",
              "    <script>\n",
              "      const buttonEl =\n",
              "        document.querySelector('#df-f48759c0-fa0c-420b-af28-5ad8889719a4 button.colab-df-convert');\n",
              "      buttonEl.style.display =\n",
              "        google.colab.kernel.accessAllowed ? 'block' : 'none';\n",
              "\n",
              "      async function convertToInteractive(key) {\n",
              "        const element = document.querySelector('#df-f48759c0-fa0c-420b-af28-5ad8889719a4');\n",
              "        const dataTable =\n",
              "          await google.colab.kernel.invokeFunction('convertToInteractive',\n",
              "                                                    [key], {});\n",
              "        if (!dataTable) return;\n",
              "\n",
              "        const docLinkHtml = 'Like what you see? Visit the ' +\n",
              "          '<a target=\"_blank\" href=https://colab.research.google.com/notebooks/data_table.ipynb>data table notebook</a>'\n",
              "          + ' to learn more about interactive tables.';\n",
              "        element.innerHTML = '';\n",
              "        dataTable['output_type'] = 'display_data';\n",
              "        await google.colab.output.renderOutput(dataTable, element);\n",
              "        const docLink = document.createElement('div');\n",
              "        docLink.innerHTML = docLinkHtml;\n",
              "        element.appendChild(docLink);\n",
              "      }\n",
              "    </script>\n",
              "  </div>\n",
              "\n",
              "\n",
              "<div id=\"df-a78af652-3718-47e7-af56-4b294c56402e\">\n",
              "  <button class=\"colab-df-quickchart\" onclick=\"quickchart('df-a78af652-3718-47e7-af56-4b294c56402e')\"\n",
              "            title=\"Suggest charts\"\n",
              "            style=\"display:none;\">\n",
              "\n",
              "<svg xmlns=\"http://www.w3.org/2000/svg\" height=\"24px\"viewBox=\"0 0 24 24\"\n",
              "     width=\"24px\">\n",
              "    <g>\n",
              "        <path d=\"M19 3H5c-1.1 0-2 .9-2 2v14c0 1.1.9 2 2 2h14c1.1 0 2-.9 2-2V5c0-1.1-.9-2-2-2zM9 17H7v-7h2v7zm4 0h-2V7h2v10zm4 0h-2v-4h2v4z\"/>\n",
              "    </g>\n",
              "</svg>\n",
              "  </button>\n",
              "\n",
              "<style>\n",
              "  .colab-df-quickchart {\n",
              "      --bg-color: #E8F0FE;\n",
              "      --fill-color: #1967D2;\n",
              "      --hover-bg-color: #E2EBFA;\n",
              "      --hover-fill-color: #174EA6;\n",
              "      --disabled-fill-color: #AAA;\n",
              "      --disabled-bg-color: #DDD;\n",
              "  }\n",
              "\n",
              "  [theme=dark] .colab-df-quickchart {\n",
              "      --bg-color: #3B4455;\n",
              "      --fill-color: #D2E3FC;\n",
              "      --hover-bg-color: #434B5C;\n",
              "      --hover-fill-color: #FFFFFF;\n",
              "      --disabled-bg-color: #3B4455;\n",
              "      --disabled-fill-color: #666;\n",
              "  }\n",
              "\n",
              "  .colab-df-quickchart {\n",
              "    background-color: var(--bg-color);\n",
              "    border: none;\n",
              "    border-radius: 50%;\n",
              "    cursor: pointer;\n",
              "    display: none;\n",
              "    fill: var(--fill-color);\n",
              "    height: 32px;\n",
              "    padding: 0;\n",
              "    width: 32px;\n",
              "  }\n",
              "\n",
              "  .colab-df-quickchart:hover {\n",
              "    background-color: var(--hover-bg-color);\n",
              "    box-shadow: 0 1px 2px rgba(60, 64, 67, 0.3), 0 1px 3px 1px rgba(60, 64, 67, 0.15);\n",
              "    fill: var(--button-hover-fill-color);\n",
              "  }\n",
              "\n",
              "  .colab-df-quickchart-complete:disabled,\n",
              "  .colab-df-quickchart-complete:disabled:hover {\n",
              "    background-color: var(--disabled-bg-color);\n",
              "    fill: var(--disabled-fill-color);\n",
              "    box-shadow: none;\n",
              "  }\n",
              "\n",
              "  .colab-df-spinner {\n",
              "    border: 2px solid var(--fill-color);\n",
              "    border-color: transparent;\n",
              "    border-bottom-color: var(--fill-color);\n",
              "    animation:\n",
              "      spin 1s steps(1) infinite;\n",
              "  }\n",
              "\n",
              "  @keyframes spin {\n",
              "    0% {\n",
              "      border-color: transparent;\n",
              "      border-bottom-color: var(--fill-color);\n",
              "      border-left-color: var(--fill-color);\n",
              "    }\n",
              "    20% {\n",
              "      border-color: transparent;\n",
              "      border-left-color: var(--fill-color);\n",
              "      border-top-color: var(--fill-color);\n",
              "    }\n",
              "    30% {\n",
              "      border-color: transparent;\n",
              "      border-left-color: var(--fill-color);\n",
              "      border-top-color: var(--fill-color);\n",
              "      border-right-color: var(--fill-color);\n",
              "    }\n",
              "    40% {\n",
              "      border-color: transparent;\n",
              "      border-right-color: var(--fill-color);\n",
              "      border-top-color: var(--fill-color);\n",
              "    }\n",
              "    60% {\n",
              "      border-color: transparent;\n",
              "      border-right-color: var(--fill-color);\n",
              "    }\n",
              "    80% {\n",
              "      border-color: transparent;\n",
              "      border-right-color: var(--fill-color);\n",
              "      border-bottom-color: var(--fill-color);\n",
              "    }\n",
              "    90% {\n",
              "      border-color: transparent;\n",
              "      border-bottom-color: var(--fill-color);\n",
              "    }\n",
              "  }\n",
              "</style>\n",
              "\n",
              "  <script>\n",
              "    async function quickchart(key) {\n",
              "      const quickchartButtonEl =\n",
              "        document.querySelector('#' + key + ' button');\n",
              "      quickchartButtonEl.disabled = true;  // To prevent multiple clicks.\n",
              "      quickchartButtonEl.classList.add('colab-df-spinner');\n",
              "      try {\n",
              "        const charts = await google.colab.kernel.invokeFunction(\n",
              "            'suggestCharts', [key], {});\n",
              "      } catch (error) {\n",
              "        console.error('Error during call to suggestCharts:', error);\n",
              "      }\n",
              "      quickchartButtonEl.classList.remove('colab-df-spinner');\n",
              "      quickchartButtonEl.classList.add('colab-df-quickchart-complete');\n",
              "    }\n",
              "    (() => {\n",
              "      let quickchartButtonEl =\n",
              "        document.querySelector('#df-a78af652-3718-47e7-af56-4b294c56402e button');\n",
              "      quickchartButtonEl.style.display =\n",
              "        google.colab.kernel.accessAllowed ? 'block' : 'none';\n",
              "    })();\n",
              "  </script>\n",
              "</div>\n",
              "\n",
              "    </div>\n",
              "  </div>\n"
            ],
            "application/vnd.google.colaboratory.intrinsic+json": {
              "type": "dataframe",
              "variable_name": "df",
              "summary": "{\n  \"name\": \"df\",\n  \"rows\": 10254,\n  \"fields\": [\n    {\n      \"column\": \"text\",\n      \"properties\": {\n        \"dtype\": \"string\",\n        \"num_unique_values\": 10254,\n        \"samples\": [\n          \"\\u0644\\u0627\\u062a\\u062d\\u0632\\u0646\\u0648 \\u064a\\u0627 \\u0627\\u062e\\u0648\\u0627\\u0646\\u064a \\u0641\\u0642\\u0637 \\u0647\\u0630\\u0647 \\u062f\\u0645\\u0648\\u0639 \\u062a\\u0645\\u0627\\u0633\\u064a\\u062d \\u064a\\u062f\\u0631\\u064a\\u0641\\u0647\\u0627 \\u0628\\u0646\\u0643\\u064a\\u0631\\u0627\\u0646 \\u0644\\u0643\\u064a \\u064a\\u0635\\u0644 \\u0625\\u0644\\u0649 \\u0641\\u0631\\u064a\\u0633\\u062a\\u0647 ( \\u062d\\u0646\\u0627\\u0646 \\u0627\\u0644\\u0634\\u0639\\u0628 )\",\n          \"Abid Makhlouk  \\u0646\\u062a\\u0627 \\u0627\\u0644\\u0644\\u064a \\u0633\\u064a\\u0631 \\u0642\\u0631\\u0627 \\u0627\\u0644\\u0645\\u0648\\u0636\\u0648\\u0639 ...\\u0631\\u0627\\u0647 \\u0628\\u062a\\u0632\\u0643\\u064a\\u0629 \\u0645\\u0646 \\u0639\\u0646\\u062f \\u0627\\u0644\\u0636\\u0628\\u0639 \\u0628\\u0646\\u0643\\u064a\\u0631\\u0627\\u0646 \\u062a\\u0645 \\u062a\\u0637\\u0628\\u064a\\u0642 \\u0627\\u0644\\u0642\\u0631\\u0627\\u0631\",\n          \"\\u0648 \\u0627\\u0644\\u0645\\u0634\\u0643\\u0644 \\u062d\\u0627\\u0643\\u0645 \\u0627\\u0644\\u0628\\u0644\\u0627\\u062f \\u062a\\u064a\\u0633\\u0648\\u0644 \\u0623\\u064a\\u0646 \\u0627\\u0644\\u062a\\u0631\\u0648\\u062a \\u061f\\u061f\\u061f! \\u062a\\u0646\\u0645\\u0634\\u064a\\u0648 \\u0646\\u0633\\u0648\\u0644\\u0648 \\u0631\\u0626\\u064a\\u0633 \\u0627\\u0644\\u062d\\u0643\\u0648\\u0645\\u0629 .\\u0623\\u064a\\u0646 \\u0647\\u064a \\u0627\\u0644\\u062a\\u0631\\u0648\\u062a \\u061f \\u062a\\u064a\\u0642\\u0648\\u0644\\u064a\\u0643 \\u0648\\u0622\\u0644\\u0644\\u0647 \\u0645\\u0641\\u0631\\u0627\\u0633\\u064a !! \\u0645\\u0634\\u064a \\u0627\\u0644\\u0647\\u0628\\u0627\\u0644 \\u0647\\u062f\\u0627 .\"\n        ],\n        \"semantic_type\": \"\",\n        \"description\": \"\"\n      }\n    },\n    {\n      \"column\": \"label\",\n      \"properties\": {\n        \"dtype\": \"number\",\n        \"std\": 0,\n        \"min\": 0,\n        \"max\": 1,\n        \"num_unique_values\": 2,\n        \"samples\": [\n          1,\n          0\n        ],\n        \"semantic_type\": \"\",\n        \"description\": \"\"\n      }\n    },\n    {\n      \"column\": \"cleaned_text_with_stopwords\",\n      \"properties\": {\n        \"dtype\": \"string\",\n        \"num_unique_values\": 10208,\n        \"samples\": [\n          \"\\u0646\\u0631\\u064a\\u062f \\u062f\\u0648\\u0644\\u0647 \\u0627\\u0644\\u0639\\u062f\\u0627\\u0644\\u0647 \\u0645\\u062d\\u0645\\u062f \\u0627\\u0644\\u0633\\u0627\\u062f\\u0633 \\u0627\\u0644\\u0644\\u0647 \\u064a\\u062d\\u0641\\u0638\\u0648\",\n          \"\\u0645\\u0627\\u062a \\u0634\\u0628\\u0627\\u0637 \\u0648\\u0633\\u064a\\u0645\\u0648\\u062a \\u0645\\u0639\\u0647 \\u0627\\u0644\\u062d\\u0632\\u0628 \\u0647\\u0630\\u0647 \\u0646\\u0647\\u0627\\u064a\\u0629 \\u063a\\u064a\\u0629 \\u0627\\u064a\\u0646 \\u0627\\u0646\\u062a\\u0645 \\u0627\\u0644\\u0641\\u0627\\u0633\\u064a\\u064a\\u0646 \\u0644\\u0627\\u0646\\u0642\\u0627\\u062f \\u0627\\u0644\\u062d\\u0632\\u0628\"\n        ],\n        \"semantic_type\": \"\",\n        \"description\": \"\"\n      }\n    }\n  ]\n}"
            }
          },
          "metadata": {},
          "execution_count": 18
        }
      ]
    },
    {
      "cell_type": "markdown",
      "source": [
        "**data cleaned without stop words**"
      ],
      "metadata": {
        "id": "vj2UuFb7dg-e"
      }
    },
    {
      "cell_type": "code",
      "source": [
        "darija_stopwords = requests.get(\"https://raw.githubusercontent.com/ouladck/darija-stop-words/master/list.txt\").text.splitlines()\n",
        "\n",
        "print(darija_stopwords)\n"
      ],
      "metadata": {
        "colab": {
          "base_uri": "https://localhost:8080/"
        },
        "id": "l9u9AawyS9KY",
        "outputId": "0aec3d66-1082-422f-8e9d-9ff40683be9a"
      },
      "execution_count": null,
      "outputs": [
        {
          "output_type": "stream",
          "name": "stdout",
          "text": [
            "['،', 'ء', 'ءَ', 'آ', 'آب', 'آذار', 'آض', 'آل', 'آمينَ', 'آناء', 'آنفا', 'آه', 'آهاً', 'آهٍ', 'آهِ', 'أ', 'أبدا', 'أبريل', 'أبو', 'أبٌ', 'أجل', 'أجمع', 'أحد', 'أخبر', 'أخذ', 'أخو', 'أخٌ', 'أربع', 'أربعاء', 'أربعة', 'أربعمئة', 'أربعمائة', 'أرى', 'أسكن', 'أصبح', 'أصلا', 'أضحى', 'أطعم', 'أعطى', 'أعلم', 'أغسطس', 'أفريل', 'أفعل به', 'أفٍّ', 'أقبل', 'أكتوبر', 'أل', 'ألا', 'ألف', 'ألفى', 'أم', 'أما', 'أمام', 'أمامك', 'أمامكَ', 'أمد', 'أمس', 'أمسى', 'أمّا', 'أن', 'أنا', 'أنبأ', 'أنت', 'أنتم', 'أنتما', 'أنتن', 'أنتِ', 'أنشأ', 'أنه', 'أنًّ', 'أنّى', 'أهلا', 'أو', 'أوت', 'أوشك', 'أول', 'أولئك', 'أولاء', 'أولالك', 'أوّهْ', 'أى', 'أي', 'أيا', 'أيار', 'أيضا', 'أيلول', 'أين', 'أيّ', 'أيّان', 'أُفٍّ', 'ؤ', 'إحدى', 'إذ', 'إذا', 'إذاً', 'إذما', 'إذن', 'إزاء', 'إلى', 'إلي', 'إليكم', 'إليكما', 'إليكنّ', 'إليكَ', 'إلَيْكَ', 'إلّا', 'إمّا', 'إن', 'إنَّ', 'إى', 'إياك', 'إياكم', 'إياكما', 'إياكن', 'إيانا', 'إياه', 'إياها', 'إياهم', 'إياهما', 'إياهن', 'إياي', 'إيهٍ', 'ئ', 'ا', 'ا?', 'ا?ى', 'االا', 'االتى', 'ابتدأ', 'ابين', 'اتخذ', 'اثر', 'اثنا', 'اثنان', 'اثني', 'اثنين', 'اجل', 'احد', 'اخرى', 'اخلولق', 'اذا', 'اربعة', 'اربعون', 'اربعين', 'ارتدّ', 'استحال', 'اصبح', 'اضحى', 'اطار', 'اعادة', 'اعلنت', 'اف', 'اكثر', 'اكد', 'الآن', 'الألاء', 'الألى', 'الا', 'الاخيرة', 'الان', 'الاول', 'الاولى', 'التى', 'التي', 'الثاني', 'الثانية', 'الحالي', 'الذاتي', 'الذى', 'الذي', 'الذين', 'السابق', 'الف', 'اللاتي', 'اللتان', 'اللتيا', 'اللتين', 'اللذان', 'اللذين', 'اللواتي', 'الماضي', 'المقبل', 'الوقت', 'الى', 'الي', 'اليه', 'اليها', 'اليوم', 'اما', 'امام', 'امس', 'امسى', 'ان', 'انبرى', 'انقلب', 'انه', 'انها', 'او', 'اول', 'اي', 'ايار', 'ايام', 'ايضا', 'ب', 'بؤسا', 'بإن', 'بئس', 'باء', 'بات', 'باسم', 'بان', 'بخٍ', 'بد', 'بدلا', 'برس', 'بسبب', 'بسّ', 'بشكل', 'بضع', 'بطآن', 'بعد', 'بعدا', 'بعض', 'بغتة', 'بل', 'بلى', 'بن', 'به', 'بها', 'بهذا', 'بيد', 'بين', 'بَسْ', 'بَلْهَ', 'ة', 'ت', 'تاء', 'تارة', 'تاسع', 'تانِ', 'تانِك', 'تبدّل', 'تجاه', 'تحت', 'تحوّل', 'تخذ', 'ترك', 'تسع', 'تسعة', 'تسعمئة', 'تسعمائة', 'تسعون', 'تسعين', 'تشرين', 'تعسا', 'تعلَّم', 'تفعلان', 'تفعلون', 'تفعلين', 'تكون', 'تلقاء', 'تلك', 'تم', 'تموز', 'تينك', 'تَيْنِ', 'تِه', 'تِي', 'ث', 'ثاء', 'ثالث', 'ثامن', 'ثان', 'ثاني', 'ثلاث', 'ثلاثاء', 'ثلاثة', 'ثلاثمئة', 'ثلاثمائة', 'ثلاثون', 'ثلاثين', 'ثم', 'ثمان', 'ثمانمئة', 'ثمانون', 'ثماني', 'ثمانية', 'ثمانين', 'ثمنمئة', 'ثمَّ', 'ثمّ', 'ثمّة', 'ج', 'جانفي', 'جدا', 'جعل', 'جلل', 'جمعة', 'جميع', 'جنيه', 'جوان', 'جويلية', 'جير', 'جيم', 'ح', 'حاء', 'حادي', 'حار', 'حاشا', 'حاليا', 'حاي', 'حبذا', 'حبيب', 'حتى', 'حجا', 'حدَث', 'حرى', 'حزيران', 'حسب', 'حقا', 'حمدا', 'حمو', 'حمٌ', 'حوالى', 'حول', 'حيث', 'حيثما', 'حين', 'حيَّ', 'حَذارِ', 'خ', 'خاء', 'خاصة', 'خال', 'خامس', 'خبَّر', 'خلا', 'خلافا', 'خلال', 'خلف', 'خمس', 'خمسة', 'خمسمئة', 'خمسمائة', 'خمسون', 'خمسين', 'خميس', 'د', 'دال', 'درهم', 'درى', 'دواليك', 'دولار', 'دون', 'دونك', 'ديسمبر', 'دينار', 'ذ', 'ذا', 'ذات', 'ذاك', 'ذال', 'ذانك', 'ذانِ', 'ذلك', 'ذهب', 'ذو', 'ذيت', 'ذينك', 'ذَيْنِ', 'ذِه', 'ذِي', 'ر', 'رأى', 'راء', 'رابع', 'راح', 'رجع', 'رزق', 'رويدك', 'ريال', 'ريث', 'رُبَّ', 'ز', 'زاي', 'زعم', 'زود', 'زيارة', 'س', 'ساء', 'سابع', 'سادس', 'سبت', 'سبتمبر', 'سبحان', 'سبع', 'سبعة', 'سبعمئة', 'سبعمائة', 'سبعون', 'سبعين', 'ست', 'ستة', 'ستكون', 'ستمئة', 'ستمائة', 'ستون', 'ستين', 'سحقا', 'سرا', 'سرعان', 'سقى', 'سمعا', 'سنة', 'سنتيم', 'سنوات', 'سوف', 'سوى', 'سين', 'ش', 'شباط', 'شبه', 'شتانَ', 'شخصا', 'شرع', 'شمال', 'شيكل', 'شين', 'شَتَّانَ', 'ص', 'صاد', 'صار', 'صباح', 'صبر', 'صبرا', 'صدقا', 'صراحة', 'صفر', 'صهٍ', 'صهْ', 'ض', 'ضاد', 'ضحوة', 'ضد', 'ضمن', 'ط', 'طاء', 'طاق', 'طالما', 'طرا', 'طفق', 'طَق', 'ظ', 'ظاء', 'ظل', 'ظلّ', 'ظنَّ', 'ع', 'عاد', 'عاشر', 'عام', 'عاما', 'عامة', 'عجبا', 'عدا', 'عدة', 'عدد', 'عدم', 'عدَّ', 'عسى', 'عشر', 'عشرة', 'عشرون', 'عشرين', 'عل', 'علق', 'علم', 'على', 'علي', 'عليك', 'عليه', 'عليها', 'علًّ', 'عن', 'عند', 'عندما', 'عنه', 'عنها', 'عوض', 'عيانا', 'عين', 'عَدَسْ', 'غ', 'غادر', 'غالبا', 'غدا', 'غداة', 'غير', 'غين', 'ـ', 'ف', 'فإن', 'فاء', 'فان', 'فانه', 'فبراير', 'فرادى', 'فضلا', 'فقد', 'فقط', 'فكان', 'فلان', 'فلس', 'فهو', 'فو', 'فوق', 'فى', 'في', 'فيفري', 'فيه', 'فيها', 'ق', 'قاطبة', 'قاف', 'قال', 'قام', 'قبل', 'قد', 'قرش', 'قطّ', 'قلما', 'قوة', 'ك', 'كأن', 'كأنّ', 'كأيّ', 'كأيّن', 'كاد', 'كاف', 'كان', 'كانت', 'كانون', 'كثيرا', 'كذا', 'كذلك', 'كرب', 'كسا', 'كل', 'كلتا', 'كلم', 'كلَّا', 'كلّما', 'كم', 'كما', 'كن', 'كى', 'كيت', 'كيف', 'كيفما', 'كِخ', 'ل', 'لأن', 'لا', 'لا سيما', 'لات', 'لازال', 'لاسيما', 'لام', 'لايزال', 'لبيك', 'لدن', 'لدى', 'لدي', 'لذلك', 'لعل', 'لعلَّ', 'لعمر', 'لقاء', 'لكن', 'لكنه', 'لكنَّ', 'للامم', 'لم', 'لما', 'لمّا', 'لن', 'له', 'لها', 'لهذا', 'لهم', 'لو', 'لوكالة', 'لولا', 'لوما', 'ليت', 'ليرة', 'ليس', 'ليسب', 'م', 'مئة', 'مئتان', 'ما', 'ما أفعله', 'ما انفك', 'ما برح', 'مائة', 'ماانفك', 'مابرح', 'مادام', 'ماذا', 'مارس', 'مازال', 'مافتئ', 'ماي', 'مايزال', 'مايو', 'متى', 'مثل', 'مذ', 'مرّة', 'مساء', 'مع', 'معاذ', 'معه', 'مقابل', 'مكانكم', 'مكانكما', 'مكانكنّ', 'مكانَك', 'مليار', 'مليم', 'مليون', 'مما', 'من', 'منذ', 'منه', 'منها', 'مه', 'مهما', 'ميم', 'ن', 'نا', 'نبَّا', 'نحن', 'نحو', 'نعم', 'نفس', 'نفسه', 'نهاية', 'نوفمبر', 'نون', 'نيسان', 'نيف', 'نَخْ', 'نَّ', 'ه', 'هؤلاء', 'ها', 'هاء', 'هاكَ', 'هبّ', 'هذا', 'هذه', 'هل', 'هللة', 'هلم', 'هلّا', 'هم', 'هما', 'همزة', 'هن', 'هنا', 'هناك', 'هنالك', 'هو', 'هي', 'هيا', 'هيهات', 'هيّا', 'هَؤلاء', 'هَاتانِ', 'هَاتَيْنِ', 'هَاتِه', 'هَاتِي', 'هَجْ', 'هَذا', 'هَذانِ', 'هَذَيْنِ', 'هَذِه', 'هَذِي', 'هَيْهات', 'و', 'و6', 'وأبو', 'وأن', 'وا', 'واحد', 'واضاف', 'واضافت', 'واكد', 'والتي', 'والذي', 'وان', 'واهاً', 'واو', 'واوضح', 'وبين', 'وثي', 'وجد', 'وراءَك', 'ورد', 'وعلى', 'وفي', 'وقال', 'وقالت', 'وقد', 'وقف', 'وكان', 'وكانت', 'ولا', 'ولايزال', 'ولكن', 'ولم', 'وله', 'وليس', 'ومع', 'ومن', 'وهب', 'وهذا', 'وهو', 'وهي', 'وَيْ', 'وُشْكَانَ', 'ى', 'ي', 'ياء', 'يفعلان', 'يفعلون', 'يكون', 'يلي', 'يمكن', 'يمين', 'ين', 'يناير', 'يوان', 'يورو', 'يوليو', 'يوم', 'يونيو', 'ّأيّان']\n"
          ]
        }
      ]
    },
    {
      "cell_type": "code",
      "source": [
        "domain_stopwords = ['الله', 'بنكيران', 'دولة', 'المغرب', 'الحكومة', 'الدولة', 'محمد', 'الشعب',\n",
        "                    'السادس', 'الملك', 'حكومة', 'العدالة', 'هاد', 'ديال', 'حزب', 'فكري', 'محسن',\n",
        "                    'السياسة', 'رئيس', 'راه', 'المغاربة', 'كيران', 'الحسيمة', 'التنمية',]\n",
        "final_stopwords = domain_stopwords + darija_stopwords"
      ],
      "metadata": {
        "id": "jwQfrfGTpBbb"
      },
      "execution_count": null,
      "outputs": []
    },
    {
      "cell_type": "code",
      "source": [
        "def text_cleaner_without_stopwords_darija(text):\n",
        "    # Remove mentions (e.g., @username)\n",
        "    new_text = re.sub(r\"@[A-Za-z0-9_]+\", \"\", text)\n",
        "\n",
        "    # Remove hashtags (but keep the word after the hashtag)\n",
        "    new_text = re.sub(\"#\", \"\", new_text)\n",
        "\n",
        "    # Remove URLs\n",
        "    new_text = re.sub(r\"http\\S+\", \"\", new_text)\n",
        "\n",
        "    # Remove any non-Arabic characters (keeping spaces and Arabic letters)\n",
        "    new_text = re.sub(r\"[^\\u0621-\\u064A\\s]\", \"\", new_text)  # Unicode range for Arabic script\n",
        "\n",
        "    # Remove newline characters, tabs, and carriage returns\n",
        "    new_text = re.sub(r\"[\\n\\r\\t]\", \" \", new_text)  # Replace \\n, \\r, \\t with a space\n",
        "\n",
        "    # Replace multiple consecutive spaces with a single space\n",
        "    new_text = re.sub(r\"\\s+\", \" \", new_text)\n",
        "\n",
        "    # Remove short words (length <= 2)\n",
        "    new_text = [token for token in new_text.split() if len(token) > 2]\n",
        "\n",
        "    # Remove stopwords\n",
        "    new_text = [token for token in new_text if token not in final_stopwords]\n",
        "\n",
        "    # Join the cleaned tokens back into a single string\n",
        "    new_text = \" \".join(new_text).strip()  # Strip leading/trailing spaces\n",
        "\n",
        "    return new_text"
      ],
      "metadata": {
        "id": "rNbz6kYNS9NN"
      },
      "execution_count": null,
      "outputs": []
    },
    {
      "cell_type": "code",
      "source": [
        "cleaned_text_without_stopwords = list(df['text'].apply(text_cleaner_without_stopwords_darija))\n",
        "print(cleaned_text_without_stopwords[:10])"
      ],
      "metadata": {
        "colab": {
          "base_uri": "https://localhost:8080/"
        },
        "id": "eTPLLa-QcjNn",
        "outputId": "bbb712e1-6252-43c7-b757-079040527118"
      },
      "execution_count": null,
      "outputs": [
        {
          "output_type": "stream",
          "name": "stdout",
          "text": [
            "['البكاء سمت الرجال البكاء سلطة الضعفاء لكسب التعاطف انا لست وانما الرجل الصالح يفعل يقول يبكي النصر', 'كلنا ولاية ثانية شاء موتوا بحقدكم', 'الشركات الدول المتقدمة تساهم بناء أوطانها بدفع الضرائب بلدنا العزيز الشركات تطلب تخدم', 'ينتقد كران خصوم معارضة خاصها سلطة تهتم لوضعية مواطن', 'هدو صحاب بام توجدو راسهوم بغين اعفاءات ضريبية لهوم ويزيدها فقراء يزدو ليه فلعشا مشى بطروناج شدها البام مشيتو', 'نظرك الحكومات السابقة احسن اتقوا وانظروا المحاسن المساولا نسيتوا مضى الاستقلالاين الاشتراكيين', 'يمر بتجربة صعبة للغاية فرغم التحديات والصعوبات والمواجهات التماسيح والعفاريت فشعبيته تزايد فالحق يعلى يعلى', 'مستوى االعيش بلادنا فرنسا يونان اسبانيا لنقوم بسياسة تقشفهمادلتكم زاءفة كالعادة', 'احسن ساصوت والتنمية اناس شرفاء يسرقوا بلدنا النصر حليفهم شاء', 'المنافقين البام مزال معرفتهم كيسواو ينجحوا وعاد تعرفهم حقيقتهم']\n"
          ]
        }
      ]
    },
    {
      "cell_type": "code",
      "source": [
        "df['cleaned_text_without_stopwords'] = cleaned_text_without_stopwords\n",
        "df.head()"
      ],
      "metadata": {
        "colab": {
          "base_uri": "https://localhost:8080/",
          "height": 206
        },
        "id": "esAet4iBpLyW",
        "outputId": "7928242d-5217-4349-f4de-7c83f6d90b43"
      },
      "execution_count": null,
      "outputs": [
        {
          "output_type": "execute_result",
          "data": {
            "text/plain": [
              "                                                text  label  \\\n",
              "0  البكاء ليس سمت الرجال ..البكاء سلطة الضعفاء لك...      0   \n",
              "1  كلنا بنكيران\\nولاية ثانية ان شاء الله\\nموتوا ب...      1   \n",
              "2  الشركات في الدول المتقدمة تساهم في بناء أوطانه...      0   \n",
              "3  من ينتقد بن كران هم خصوم معارضة لى خاصها هي سل...      0   \n",
              "4  هدو صحاب بام توجدو راسهوم بغين اعفاءات ضريبية ...      0   \n",
              "\n",
              "                         cleaned_text_with_stopwords  \\\n",
              "0  البكاء ليس سمت الرجال البكاء سلطة الضعفاء لكسب...   \n",
              "1     كلنا بنكيران ولاية ثانية شاء الله موتوا بحقدكم   \n",
              "2  الشركات الدول المتقدمة تساهم بناء أوطانها بدفع...   \n",
              "3  ينتقد كران خصوم معارضة خاصها سلطة تهتم لوضعية ...   \n",
              "4  هدو صحاب بام توجدو راسهوم بغين اعفاءات ضريبية ...   \n",
              "\n",
              "                      cleaned_text_without_stopwords  \n",
              "0  البكاء سمت الرجال البكاء سلطة الضعفاء لكسب الت...  \n",
              "1                  كلنا ولاية ثانية شاء موتوا بحقدكم  \n",
              "2  الشركات الدول المتقدمة تساهم بناء أوطانها بدفع...  \n",
              "3  ينتقد كران خصوم معارضة خاصها سلطة تهتم لوضعية ...  \n",
              "4  هدو صحاب بام توجدو راسهوم بغين اعفاءات ضريبية ...  "
            ],
            "text/html": [
              "\n",
              "  <div id=\"df-001cd326-fb14-4cc9-be5e-18c9146693e7\" class=\"colab-df-container\">\n",
              "    <div>\n",
              "<style scoped>\n",
              "    .dataframe tbody tr th:only-of-type {\n",
              "        vertical-align: middle;\n",
              "    }\n",
              "\n",
              "    .dataframe tbody tr th {\n",
              "        vertical-align: top;\n",
              "    }\n",
              "\n",
              "    .dataframe thead th {\n",
              "        text-align: right;\n",
              "    }\n",
              "</style>\n",
              "<table border=\"1\" class=\"dataframe\">\n",
              "  <thead>\n",
              "    <tr style=\"text-align: right;\">\n",
              "      <th></th>\n",
              "      <th>text</th>\n",
              "      <th>label</th>\n",
              "      <th>cleaned_text_with_stopwords</th>\n",
              "      <th>cleaned_text_without_stopwords</th>\n",
              "    </tr>\n",
              "  </thead>\n",
              "  <tbody>\n",
              "    <tr>\n",
              "      <th>0</th>\n",
              "      <td>البكاء ليس سمت الرجال ..البكاء سلطة الضعفاء لك...</td>\n",
              "      <td>0</td>\n",
              "      <td>البكاء ليس سمت الرجال البكاء سلطة الضعفاء لكسب...</td>\n",
              "      <td>البكاء سمت الرجال البكاء سلطة الضعفاء لكسب الت...</td>\n",
              "    </tr>\n",
              "    <tr>\n",
              "      <th>1</th>\n",
              "      <td>كلنا بنكيران\\nولاية ثانية ان شاء الله\\nموتوا ب...</td>\n",
              "      <td>1</td>\n",
              "      <td>كلنا بنكيران ولاية ثانية شاء الله موتوا بحقدكم</td>\n",
              "      <td>كلنا ولاية ثانية شاء موتوا بحقدكم</td>\n",
              "    </tr>\n",
              "    <tr>\n",
              "      <th>2</th>\n",
              "      <td>الشركات في الدول المتقدمة تساهم في بناء أوطانه...</td>\n",
              "      <td>0</td>\n",
              "      <td>الشركات الدول المتقدمة تساهم بناء أوطانها بدفع...</td>\n",
              "      <td>الشركات الدول المتقدمة تساهم بناء أوطانها بدفع...</td>\n",
              "    </tr>\n",
              "    <tr>\n",
              "      <th>3</th>\n",
              "      <td>من ينتقد بن كران هم خصوم معارضة لى خاصها هي سل...</td>\n",
              "      <td>0</td>\n",
              "      <td>ينتقد كران خصوم معارضة خاصها سلطة تهتم لوضعية ...</td>\n",
              "      <td>ينتقد كران خصوم معارضة خاصها سلطة تهتم لوضعية ...</td>\n",
              "    </tr>\n",
              "    <tr>\n",
              "      <th>4</th>\n",
              "      <td>هدو صحاب بام توجدو راسهوم بغين اعفاءات ضريبية ...</td>\n",
              "      <td>0</td>\n",
              "      <td>هدو صحاب بام توجدو راسهوم بغين اعفاءات ضريبية ...</td>\n",
              "      <td>هدو صحاب بام توجدو راسهوم بغين اعفاءات ضريبية ...</td>\n",
              "    </tr>\n",
              "  </tbody>\n",
              "</table>\n",
              "</div>\n",
              "    <div class=\"colab-df-buttons\">\n",
              "\n",
              "  <div class=\"colab-df-container\">\n",
              "    <button class=\"colab-df-convert\" onclick=\"convertToInteractive('df-001cd326-fb14-4cc9-be5e-18c9146693e7')\"\n",
              "            title=\"Convert this dataframe to an interactive table.\"\n",
              "            style=\"display:none;\">\n",
              "\n",
              "  <svg xmlns=\"http://www.w3.org/2000/svg\" height=\"24px\" viewBox=\"0 -960 960 960\">\n",
              "    <path d=\"M120-120v-720h720v720H120Zm60-500h600v-160H180v160Zm220 220h160v-160H400v160Zm0 220h160v-160H400v160ZM180-400h160v-160H180v160Zm440 0h160v-160H620v160ZM180-180h160v-160H180v160Zm440 0h160v-160H620v160Z\"/>\n",
              "  </svg>\n",
              "    </button>\n",
              "\n",
              "  <style>\n",
              "    .colab-df-container {\n",
              "      display:flex;\n",
              "      gap: 12px;\n",
              "    }\n",
              "\n",
              "    .colab-df-convert {\n",
              "      background-color: #E8F0FE;\n",
              "      border: none;\n",
              "      border-radius: 50%;\n",
              "      cursor: pointer;\n",
              "      display: none;\n",
              "      fill: #1967D2;\n",
              "      height: 32px;\n",
              "      padding: 0 0 0 0;\n",
              "      width: 32px;\n",
              "    }\n",
              "\n",
              "    .colab-df-convert:hover {\n",
              "      background-color: #E2EBFA;\n",
              "      box-shadow: 0px 1px 2px rgba(60, 64, 67, 0.3), 0px 1px 3px 1px rgba(60, 64, 67, 0.15);\n",
              "      fill: #174EA6;\n",
              "    }\n",
              "\n",
              "    .colab-df-buttons div {\n",
              "      margin-bottom: 4px;\n",
              "    }\n",
              "\n",
              "    [theme=dark] .colab-df-convert {\n",
              "      background-color: #3B4455;\n",
              "      fill: #D2E3FC;\n",
              "    }\n",
              "\n",
              "    [theme=dark] .colab-df-convert:hover {\n",
              "      background-color: #434B5C;\n",
              "      box-shadow: 0px 1px 3px 1px rgba(0, 0, 0, 0.15);\n",
              "      filter: drop-shadow(0px 1px 2px rgba(0, 0, 0, 0.3));\n",
              "      fill: #FFFFFF;\n",
              "    }\n",
              "  </style>\n",
              "\n",
              "    <script>\n",
              "      const buttonEl =\n",
              "        document.querySelector('#df-001cd326-fb14-4cc9-be5e-18c9146693e7 button.colab-df-convert');\n",
              "      buttonEl.style.display =\n",
              "        google.colab.kernel.accessAllowed ? 'block' : 'none';\n",
              "\n",
              "      async function convertToInteractive(key) {\n",
              "        const element = document.querySelector('#df-001cd326-fb14-4cc9-be5e-18c9146693e7');\n",
              "        const dataTable =\n",
              "          await google.colab.kernel.invokeFunction('convertToInteractive',\n",
              "                                                    [key], {});\n",
              "        if (!dataTable) return;\n",
              "\n",
              "        const docLinkHtml = 'Like what you see? Visit the ' +\n",
              "          '<a target=\"_blank\" href=https://colab.research.google.com/notebooks/data_table.ipynb>data table notebook</a>'\n",
              "          + ' to learn more about interactive tables.';\n",
              "        element.innerHTML = '';\n",
              "        dataTable['output_type'] = 'display_data';\n",
              "        await google.colab.output.renderOutput(dataTable, element);\n",
              "        const docLink = document.createElement('div');\n",
              "        docLink.innerHTML = docLinkHtml;\n",
              "        element.appendChild(docLink);\n",
              "      }\n",
              "    </script>\n",
              "  </div>\n",
              "\n",
              "\n",
              "<div id=\"df-50ca3bf2-fb77-44ab-9a5f-936840ea3049\">\n",
              "  <button class=\"colab-df-quickchart\" onclick=\"quickchart('df-50ca3bf2-fb77-44ab-9a5f-936840ea3049')\"\n",
              "            title=\"Suggest charts\"\n",
              "            style=\"display:none;\">\n",
              "\n",
              "<svg xmlns=\"http://www.w3.org/2000/svg\" height=\"24px\"viewBox=\"0 0 24 24\"\n",
              "     width=\"24px\">\n",
              "    <g>\n",
              "        <path d=\"M19 3H5c-1.1 0-2 .9-2 2v14c0 1.1.9 2 2 2h14c1.1 0 2-.9 2-2V5c0-1.1-.9-2-2-2zM9 17H7v-7h2v7zm4 0h-2V7h2v10zm4 0h-2v-4h2v4z\"/>\n",
              "    </g>\n",
              "</svg>\n",
              "  </button>\n",
              "\n",
              "<style>\n",
              "  .colab-df-quickchart {\n",
              "      --bg-color: #E8F0FE;\n",
              "      --fill-color: #1967D2;\n",
              "      --hover-bg-color: #E2EBFA;\n",
              "      --hover-fill-color: #174EA6;\n",
              "      --disabled-fill-color: #AAA;\n",
              "      --disabled-bg-color: #DDD;\n",
              "  }\n",
              "\n",
              "  [theme=dark] .colab-df-quickchart {\n",
              "      --bg-color: #3B4455;\n",
              "      --fill-color: #D2E3FC;\n",
              "      --hover-bg-color: #434B5C;\n",
              "      --hover-fill-color: #FFFFFF;\n",
              "      --disabled-bg-color: #3B4455;\n",
              "      --disabled-fill-color: #666;\n",
              "  }\n",
              "\n",
              "  .colab-df-quickchart {\n",
              "    background-color: var(--bg-color);\n",
              "    border: none;\n",
              "    border-radius: 50%;\n",
              "    cursor: pointer;\n",
              "    display: none;\n",
              "    fill: var(--fill-color);\n",
              "    height: 32px;\n",
              "    padding: 0;\n",
              "    width: 32px;\n",
              "  }\n",
              "\n",
              "  .colab-df-quickchart:hover {\n",
              "    background-color: var(--hover-bg-color);\n",
              "    box-shadow: 0 1px 2px rgba(60, 64, 67, 0.3), 0 1px 3px 1px rgba(60, 64, 67, 0.15);\n",
              "    fill: var(--button-hover-fill-color);\n",
              "  }\n",
              "\n",
              "  .colab-df-quickchart-complete:disabled,\n",
              "  .colab-df-quickchart-complete:disabled:hover {\n",
              "    background-color: var(--disabled-bg-color);\n",
              "    fill: var(--disabled-fill-color);\n",
              "    box-shadow: none;\n",
              "  }\n",
              "\n",
              "  .colab-df-spinner {\n",
              "    border: 2px solid var(--fill-color);\n",
              "    border-color: transparent;\n",
              "    border-bottom-color: var(--fill-color);\n",
              "    animation:\n",
              "      spin 1s steps(1) infinite;\n",
              "  }\n",
              "\n",
              "  @keyframes spin {\n",
              "    0% {\n",
              "      border-color: transparent;\n",
              "      border-bottom-color: var(--fill-color);\n",
              "      border-left-color: var(--fill-color);\n",
              "    }\n",
              "    20% {\n",
              "      border-color: transparent;\n",
              "      border-left-color: var(--fill-color);\n",
              "      border-top-color: var(--fill-color);\n",
              "    }\n",
              "    30% {\n",
              "      border-color: transparent;\n",
              "      border-left-color: var(--fill-color);\n",
              "      border-top-color: var(--fill-color);\n",
              "      border-right-color: var(--fill-color);\n",
              "    }\n",
              "    40% {\n",
              "      border-color: transparent;\n",
              "      border-right-color: var(--fill-color);\n",
              "      border-top-color: var(--fill-color);\n",
              "    }\n",
              "    60% {\n",
              "      border-color: transparent;\n",
              "      border-right-color: var(--fill-color);\n",
              "    }\n",
              "    80% {\n",
              "      border-color: transparent;\n",
              "      border-right-color: var(--fill-color);\n",
              "      border-bottom-color: var(--fill-color);\n",
              "    }\n",
              "    90% {\n",
              "      border-color: transparent;\n",
              "      border-bottom-color: var(--fill-color);\n",
              "    }\n",
              "  }\n",
              "</style>\n",
              "\n",
              "  <script>\n",
              "    async function quickchart(key) {\n",
              "      const quickchartButtonEl =\n",
              "        document.querySelector('#' + key + ' button');\n",
              "      quickchartButtonEl.disabled = true;  // To prevent multiple clicks.\n",
              "      quickchartButtonEl.classList.add('colab-df-spinner');\n",
              "      try {\n",
              "        const charts = await google.colab.kernel.invokeFunction(\n",
              "            'suggestCharts', [key], {});\n",
              "      } catch (error) {\n",
              "        console.error('Error during call to suggestCharts:', error);\n",
              "      }\n",
              "      quickchartButtonEl.classList.remove('colab-df-spinner');\n",
              "      quickchartButtonEl.classList.add('colab-df-quickchart-complete');\n",
              "    }\n",
              "    (() => {\n",
              "      let quickchartButtonEl =\n",
              "        document.querySelector('#df-50ca3bf2-fb77-44ab-9a5f-936840ea3049 button');\n",
              "      quickchartButtonEl.style.display =\n",
              "        google.colab.kernel.accessAllowed ? 'block' : 'none';\n",
              "    })();\n",
              "  </script>\n",
              "</div>\n",
              "\n",
              "    </div>\n",
              "  </div>\n"
            ],
            "application/vnd.google.colaboratory.intrinsic+json": {
              "type": "dataframe",
              "variable_name": "df",
              "summary": "{\n  \"name\": \"df\",\n  \"rows\": 10254,\n  \"fields\": [\n    {\n      \"column\": \"text\",\n      \"properties\": {\n        \"dtype\": \"string\",\n        \"num_unique_values\": 10254,\n        \"samples\": [\n          \"\\u0644\\u0627\\u062a\\u062d\\u0632\\u0646\\u0648 \\u064a\\u0627 \\u0627\\u062e\\u0648\\u0627\\u0646\\u064a \\u0641\\u0642\\u0637 \\u0647\\u0630\\u0647 \\u062f\\u0645\\u0648\\u0639 \\u062a\\u0645\\u0627\\u0633\\u064a\\u062d \\u064a\\u062f\\u0631\\u064a\\u0641\\u0647\\u0627 \\u0628\\u0646\\u0643\\u064a\\u0631\\u0627\\u0646 \\u0644\\u0643\\u064a \\u064a\\u0635\\u0644 \\u0625\\u0644\\u0649 \\u0641\\u0631\\u064a\\u0633\\u062a\\u0647 ( \\u062d\\u0646\\u0627\\u0646 \\u0627\\u0644\\u0634\\u0639\\u0628 )\",\n          \"Abid Makhlouk  \\u0646\\u062a\\u0627 \\u0627\\u0644\\u0644\\u064a \\u0633\\u064a\\u0631 \\u0642\\u0631\\u0627 \\u0627\\u0644\\u0645\\u0648\\u0636\\u0648\\u0639 ...\\u0631\\u0627\\u0647 \\u0628\\u062a\\u0632\\u0643\\u064a\\u0629 \\u0645\\u0646 \\u0639\\u0646\\u062f \\u0627\\u0644\\u0636\\u0628\\u0639 \\u0628\\u0646\\u0643\\u064a\\u0631\\u0627\\u0646 \\u062a\\u0645 \\u062a\\u0637\\u0628\\u064a\\u0642 \\u0627\\u0644\\u0642\\u0631\\u0627\\u0631\",\n          \"\\u0648 \\u0627\\u0644\\u0645\\u0634\\u0643\\u0644 \\u062d\\u0627\\u0643\\u0645 \\u0627\\u0644\\u0628\\u0644\\u0627\\u062f \\u062a\\u064a\\u0633\\u0648\\u0644 \\u0623\\u064a\\u0646 \\u0627\\u0644\\u062a\\u0631\\u0648\\u062a \\u061f\\u061f\\u061f! \\u062a\\u0646\\u0645\\u0634\\u064a\\u0648 \\u0646\\u0633\\u0648\\u0644\\u0648 \\u0631\\u0626\\u064a\\u0633 \\u0627\\u0644\\u062d\\u0643\\u0648\\u0645\\u0629 .\\u0623\\u064a\\u0646 \\u0647\\u064a \\u0627\\u0644\\u062a\\u0631\\u0648\\u062a \\u061f \\u062a\\u064a\\u0642\\u0648\\u0644\\u064a\\u0643 \\u0648\\u0622\\u0644\\u0644\\u0647 \\u0645\\u0641\\u0631\\u0627\\u0633\\u064a !! \\u0645\\u0634\\u064a \\u0627\\u0644\\u0647\\u0628\\u0627\\u0644 \\u0647\\u062f\\u0627 .\"\n        ],\n        \"semantic_type\": \"\",\n        \"description\": \"\"\n      }\n    },\n    {\n      \"column\": \"label\",\n      \"properties\": {\n        \"dtype\": \"number\",\n        \"std\": 0,\n        \"min\": 0,\n        \"max\": 1,\n        \"num_unique_values\": 2,\n        \"samples\": [\n          1,\n          0\n        ],\n        \"semantic_type\": \"\",\n        \"description\": \"\"\n      }\n    },\n    {\n      \"column\": \"cleaned_text_with_stopwords\",\n      \"properties\": {\n        \"dtype\": \"string\",\n        \"num_unique_values\": 10208,\n        \"samples\": [\n          \"\\u0646\\u0631\\u064a\\u062f \\u062f\\u0648\\u0644\\u0647 \\u0627\\u0644\\u0639\\u062f\\u0627\\u0644\\u0647 \\u0645\\u062d\\u0645\\u062f \\u0627\\u0644\\u0633\\u0627\\u062f\\u0633 \\u0627\\u0644\\u0644\\u0647 \\u064a\\u062d\\u0641\\u0638\\u0648\",\n          \"\\u0645\\u0627\\u062a \\u0634\\u0628\\u0627\\u0637 \\u0648\\u0633\\u064a\\u0645\\u0648\\u062a \\u0645\\u0639\\u0647 \\u0627\\u0644\\u062d\\u0632\\u0628 \\u0647\\u0630\\u0647 \\u0646\\u0647\\u0627\\u064a\\u0629 \\u063a\\u064a\\u0629 \\u0627\\u064a\\u0646 \\u0627\\u0646\\u062a\\u0645 \\u0627\\u0644\\u0641\\u0627\\u0633\\u064a\\u064a\\u0646 \\u0644\\u0627\\u0646\\u0642\\u0627\\u062f \\u0627\\u0644\\u062d\\u0632\\u0628\"\n        ],\n        \"semantic_type\": \"\",\n        \"description\": \"\"\n      }\n    },\n    {\n      \"column\": \"cleaned_text_without_stopwords\",\n      \"properties\": {\n        \"dtype\": \"string\",\n        \"num_unique_values\": 10176,\n        \"samples\": [\n          \"\\u0639\\u0627\\u0627\\u0627\\u0627\\u0627\\u0627\\u0627\\u0634 \\u0648\\u0639\\u0627\\u0627\\u0627\\u0627\\u0627\\u0634 \\u0645\\u063a\\u0631\\u0628\\u064a \\u064a\\u063a\\u0627\\u0631 \\u0648\\u0637\\u0646\\u0647\",\n          \"\\u0645\\u0633\\u0627\\u0643\\u064a\\u0646 \\u0645\\u0628\\u063a\\u0627\\u062a\\u0634 \\u062a\\u062a\\u0633\\u0631\\u0637 \\u0644\\u064a\\u0643\\u0645 \\u0627\\u062e\\u062a\\u0627\\u0631 \\u0648\\u0631\\u0627\\u0647 \\u0639\\u0627\\u0642 \\u0628\\u0627\\u0644\\u0642\\u0648\\u0627\\u0644\\u0628 \\u062f\\u064a\\u0627\\u0644\\u0643\\u0645 \\u0648\\u0643\\u0644\\u0627\\u0645\\u0643\\u0645 \\u064a\\u0642\\u062f\\u0645 \\u064a\\u0624\\u062e\\u0631\"\n        ],\n        \"semantic_type\": \"\",\n        \"description\": \"\"\n      }\n    }\n  ]\n}"
            }
          },
          "metadata": {},
          "execution_count": 24
        }
      ]
    },
    {
      "cell_type": "code",
      "source": [
        "# Collect all the words from all the comments\n",
        "all_words = []\n",
        "for t in df['cleaned_text_without_stopwords']:\n",
        "    all_words.extend(t.split())\n",
        "\n",
        "# Use Counter to count frequencies of each word\n",
        "word_freq = Counter(all_words)\n",
        "\n",
        "# Get the 25 most common words\n",
        "most_common_25 = word_freq.most_common(35)\n",
        "\n",
        "# Separate the words and their frequencies for plotting\n",
        "words, freqs = zip(*most_common_25)\n",
        "\n",
        "# Reshape and reorder Arabic text for proper display\n",
        "reshaped_words = [get_display(arabic_reshaper.reshape(word)) for word in words]\n",
        "\n",
        "# Plot the 25 most frequent words\n",
        "plt.figure(figsize=(12, 5))\n",
        "plt.bar(reshaped_words, freqs, color='skyblue')\n",
        "plt.title('Top 25 Most Common Words', fontsize=15)\n",
        "plt.xlabel('Words', fontsize=12)\n",
        "plt.ylabel('Frequency', fontsize=12)\n",
        "plt.xticks(rotation=45, ha='right', fontsize=12)\n",
        "plt.tight_layout()\n",
        "plt.show()"
      ],
      "metadata": {
        "colab": {
          "base_uri": "https://localhost:8080/",
          "height": 580
        },
        "id": "EY8iGb6tdmx_",
        "outputId": "9d1f7e36-2c8a-4271-df79-d4201796abaf"
      },
      "execution_count": null,
      "outputs": [
        {
          "output_type": "stream",
          "name": "stderr",
          "text": [
            "<ipython-input-25-5498f9116709>:25: UserWarning: Glyph 65010 (\\N{ARABIC LIGATURE ALLAH ISOLATED FORM}) missing from font(s) DejaVu Sans.\n",
            "  plt.tight_layout()\n",
            "/usr/local/lib/python3.11/dist-packages/IPython/core/pylabtools.py:151: UserWarning: Glyph 65010 (\\N{ARABIC LIGATURE ALLAH ISOLATED FORM}) missing from font(s) DejaVu Sans.\n",
            "  fig.canvas.print_figure(bytes_io, **kw)\n"
          ]
        },
        {
          "output_type": "display_data",
          "data": {
            "text/plain": [
              "<Figure size 1200x500 with 1 Axes>"
            ],
            "image/png": "[encoded data removed]"
          },
          "metadata": {}
        }
      ]
    },
    {
      "cell_type": "code",
      "source": [
        "data=df"
      ],
      "metadata": {
        "id": "hb6VoH_NiHK_"
      },
      "execution_count": null,
      "outputs": []
    },
    {
      "cell_type": "markdown",
      "source": [
        "## 4. Data Splitting:"
      ],
      "metadata": {
        "id": "urEIvpOsUxYW"
      }
    },
    {
      "cell_type": "code",
      "execution_count": null,
      "metadata": {
        "id": "Lt4mFx8eRRQW"
      },
      "outputs": [],
      "source": [
        "from sklearn.model_selection import train_test_split\n",
        "X = data['cleaned_text_with_stopwords'].values\n",
        "y = data['label'].values\n",
        "\n",
        "X_train, X_test, y_train, y_test = train_test_split(X, y, test_size=0.1, stratify=y)"
      ]
    },
    {
      "cell_type": "code",
      "execution_count": null,
      "metadata": {
        "colab": {
          "base_uri": "https://localhost:8080/"
        },
        "id": "ZTyn9iai6-JQ",
        "outputId": "e86352ec-bdbc-4fee-ddbe-152046586634"
      },
      "outputs": [
        {
          "output_type": "stream",
          "name": "stdout",
          "text": [
            "There are 1 GPU(s) available.\n",
            "Device name: Tesla T4\n"
          ]
        }
      ],
      "source": [
        "if torch.cuda.is_available():\n",
        "    device = torch.device(\"cuda\")\n",
        "    print(f'There are {torch.cuda.device_count()} GPU(s) available.')\n",
        "    print('Device name:', torch.cuda.get_device_name(0))\n",
        "\n",
        "else:\n",
        "    print('No GPU available, using the CPU instead.')\n",
        "    device = torch.device(\"cpu\")"
      ]
    },
    {
      "cell_type": "markdown",
      "source": [
        "## 5. Tokenization and Input Formatting"
      ],
      "metadata": {
        "id": "9SrImsoq18Nf"
      }
    },
    {
      "cell_type": "markdown",
      "source": [
        "## 5.1 BERT Tokenizer"
      ],
      "metadata": {
        "id": "RmrBBx9q6-05"
      }
    },
    {
      "cell_type": "markdown",
      "source": [
        "In order to apply the pre-trained BERT, we must use the tokenizer provided by the library. This is because (1) the model has a specific, fixed vocabulary and (2) the BERT tokenizer has a particular way of handling out-of-vocabulary words.\n",
        "\n",
        "In addition, we are required to add special tokens to the start and end of each sentence, pad & truncate all sentences to a single constant length, and explicitly specify what are padding tokens with the “attention mask”.\n",
        "\n",
        "The encode_plus method of BERT tokenizer will:\n",
        "\n",
        "(1) split our text into tokens,\n",
        "\n",
        "(2) add the special [CLS] and [SEP] tokens, and\n",
        "\n",
        "(3) convert these tokens into indexes of the tokenizer vocabulary,\n",
        "\n",
        "(4) pad or truncate sentences to max length, and\n",
        "\n",
        "(5) create attention mask."
      ],
      "metadata": {
        "id": "c5Uzm1cc2mrp"
      }
    },
    {
      "cell_type": "code",
      "execution_count": null,
      "metadata": {
        "id": "eZcziyyXRjAf",
        "colab": {
          "base_uri": "https://localhost:8080/"
        },
        "outputId": "73992e21-29ad-4027-ca3b-339c0290b2a8"
      },
      "outputs": [
        {
          "output_type": "stream",
          "name": "stderr",
          "text": [
            "The `xla_device` argument has been deprecated in v4.4.0 of Transformers. It is ignored and you can safely remove it from your `config.json` file.\n"
          ]
        }
      ],
      "source": [
        "from transformers import BertTokenizer\n",
        "\n",
        "# Load the BERT tokenizer\n",
        "tokenizer = BertTokenizer.from_pretrained('SI2M-Lab/DarijaBERT')"
      ]
    },
    {
      "cell_type": "code",
      "execution_count": null,
      "metadata": {
        "id": "o9y6BG3bS_bi"
      },
      "outputs": [],
      "source": [
        "# Create a function to tokenize a set of texts\n",
        "def preprocessing_for_bert(data):\n",
        "    # Create empty lists to store outputs\n",
        "    input_ids = []\n",
        "    attention_masks = []\n",
        "\n",
        "    # For every sentence...\n",
        "    for sent in data:\n",
        "        encoded_sent = tokenizer.encode_plus(\n",
        "            text=sent,\n",
        "            add_special_tokens=True,\n",
        "            max_length=MAX_LEN,\n",
        "            pad_to_max_length=True,\n",
        "            return_attention_mask=True\n",
        "            )\n",
        "\n",
        "        # Add the outputs to the lists\n",
        "        input_ids.append(encoded_sent.get('input_ids'))\n",
        "        attention_masks.append(encoded_sent.get('attention_mask'))\n",
        "\n",
        "    # Convert lists to tensors\n",
        "    input_ids = torch.tensor(input_ids)\n",
        "    attention_masks = torch.tensor(attention_masks)\n",
        "\n",
        "    return input_ids, attention_masks"
      ]
    },
    {
      "cell_type": "markdown",
      "source": [
        "Before tokenizing, we need to specify the maximum length of our sentences.\n",
        "\n"
      ],
      "metadata": {
        "id": "1bTV7tel2y9m"
      }
    },
    {
      "cell_type": "code",
      "execution_count": null,
      "metadata": {
        "colab": {
          "base_uri": "https://localhost:8080/"
        },
        "id": "mlCiOywFVqvO",
        "outputId": "5d908ef1-fe60-4c04-ef67-d41c58798083"
      },
      "outputs": [
        {
          "output_type": "stream",
          "name": "stdout",
          "text": [
            "Max length:  88\n"
          ]
        }
      ],
      "source": [
        "# Encode our concatenated data\n",
        "encoded_tweets = [tokenizer.encode(sent, add_special_tokens=True) for sent in X]\n",
        "\n",
        "# Find the maximum length\n",
        "MAX_LEN = max([len(sent) for sent in encoded_tweets])\n",
        "print('Max length: ', MAX_LEN)"
      ]
    },
    {
      "cell_type": "markdown",
      "source": [
        "Now let’s tokenize our data."
      ],
      "metadata": {
        "id": "_2pAK1fl28vF"
      }
    },
    {
      "cell_type": "code",
      "execution_count": null,
      "metadata": {
        "colab": {
          "base_uri": "https://localhost:8080/"
        },
        "id": "oITsk265WGrl",
        "outputId": "f1319166-c32f-4f03-860c-590c683bb538"
      },
      "outputs": [
        {
          "output_type": "stream",
          "name": "stderr",
          "text": [
            "Truncation was not explicitly activated but `max_length` is provided a specific value, please use `truncation=True` to explicitly truncate examples to max length. Defaulting to 'longest_first' truncation strategy. If you encode pairs of sequences (GLUE-style) with the tokenizer you can select this strategy more precisely by providing a specific strategy to `truncation`.\n",
            "/usr/local/lib/python3.11/dist-packages/transformers/tokenization_utils_base.py:2673: FutureWarning: The `pad_to_max_length` argument is deprecated and will be removed in a future version, use `padding=True` or `padding='longest'` to pad to the longest sequence in the batch, or use `padding='max_length'` to pad to a max length. In this case, you can give a specific length with `max_length` (e.g. `max_length=45`) or leave max_length to None to pad to the maximal input size of the model (e.g. 512 for Bert).\n",
            "  warnings.warn(\n"
          ]
        },
        {
          "output_type": "stream",
          "name": "stdout",
          "text": [
            "Original:  البكاء ليس سمت الرجال البكاء سلطة الضعفاء لكسب التعاطف انا لست بنكيران وانما الرجل الصالح الذي يفعل يقول ولا يبكي الا عند النصر\n",
            "Token IDs:  [2, 16480, 4825, 2347, 1010, 3703, 16480, 22951, 46624, 32392, 1025, 69942, 1996, 10999, 8259, 15725, 4484, 10766, 4661, 22972, 3304, 2084, 9483, 2234, 2026, 18510, 3, 0, 0, 0, 0, 0, 0, 0, 0, 0, 0, 0, 0, 0, 0, 0, 0, 0, 0, 0, 0, 0, 0, 0, 0, 0, 0, 0, 0, 0, 0, 0, 0, 0, 0, 0, 0, 0, 0, 0, 0, 0, 0, 0, 0, 0, 0, 0, 0, 0, 0, 0, 0, 0, 0, 0, 0, 0, 0, 0, 0, 0, 0, 0, 0, 0, 0, 0, 0, 0, 0, 0, 0, 0, 0, 0, 0, 0, 0, 0, 0, 0, 0, 0, 0, 0, 0, 0, 0, 0, 0, 0, 0, 0, 0, 0, 0, 0, 0, 0, 0, 0]\n",
            "Tokenizing data...\n"
          ]
        }
      ],
      "source": [
        "# Specify `MAX_LEN`\n",
        "MAX_LEN = 128\n",
        "\n",
        "# Print sentence 0 and its encoded token ids\n",
        "token_ids = list(preprocessing_for_bert([X[0]])[0].squeeze().numpy())\n",
        "print('Original: ', X[0])\n",
        "print('Token IDs: ', token_ids)\n",
        "\n",
        "# Run function `preprocessing_for_bert` on the train set and the validation set\n",
        "print('Tokenizing data...')\n",
        "train_inputs, train_masks = preprocessing_for_bert(X_train)\n",
        "val_inputs, val_masks = preprocessing_for_bert(X_test)"
      ]
    },
    {
      "cell_type": "markdown",
      "source": [
        "### 5.2 Create PyTorch DataLoader\n",
        "We will create an iterator for our dataset using the torch DataLoader class. This will help save on memory during training and boost the training speed."
      ],
      "metadata": {
        "id": "nsPK49aS3CEr"
      }
    },
    {
      "cell_type": "code",
      "execution_count": null,
      "metadata": {
        "id": "5UU5ggiyXHc5"
      },
      "outputs": [],
      "source": [
        "from torch.utils.data import TensorDataset, DataLoader, RandomSampler, SequentialSampler\n",
        "\n",
        "# Convert other data types to torch.Tensor\n",
        "train_labels = torch.tensor(y_train)\n",
        "val_labels = torch.tensor(y_test)\n",
        "\n",
        "# For fine-tuning BERT, the authors recommend a batch size of 16 or 32.\n",
        "batch_size = 16\n",
        "\n",
        "# Create the DataLoader for our training set\n",
        "train_data = TensorDataset(train_inputs, train_masks, train_labels)\n",
        "train_sampler = RandomSampler(train_data)\n",
        "train_dataloader = DataLoader(train_data, sampler=train_sampler, batch_size=batch_size)\n",
        "\n",
        "# Create the DataLoader for our validation set\n",
        "val_data = TensorDataset(val_inputs, val_masks, val_labels)\n",
        "val_sampler = SequentialSampler(val_data)\n",
        "val_dataloader = DataLoader(val_data, sampler=val_sampler, batch_size=batch_size)"
      ]
    },
    {
      "cell_type": "markdown",
      "source": [
        "## 5. Model Training"
      ],
      "metadata": {
        "id": "R3YsfWl433nt"
      }
    },
    {
      "cell_type": "markdown",
      "source": [
        "### 5.1 Create BertClassifier\n",
        "\n",
        "BERT-base consists of 12 transformer layers, each transformer layer takes in a list of token embeddings, and produces the same number of embeddings with the same hidden size (or dimensions) on the output. The output of the final transformer layer of the [CLS] token is used as the features of the sequence to feed a classifier.\n",
        "\n",
        "The transformers library has the BertForSequenceClassification class which is designed for classification tasks. However, we will create a new class so we can specify our own choice of classifiers.\n",
        "\n",
        "Below we will create a BertClassifier class with a BERT model to extract the last hidden layer of the [CLS] token and a single-hidden-layer feed-forward neural network as our classifier."
      ],
      "metadata": {
        "id": "74m5a_Lc4AKm"
      }
    },
    {
      "cell_type": "code",
      "execution_count": null,
      "metadata": {
        "id": "M6gkBrP_aW2n"
      },
      "outputs": [],
      "source": [
        "import torch.nn as nn\n",
        "\n",
        "# Create the BertClassfier class\n",
        "class BertClassifier(nn.Module):\n",
        "    def __init__(self, freeze_bert=False):\n",
        "        super(BertClassifier, self).__init__()\n",
        "        # Specify hidden size of BERT, hidden size of our classifier, and number of labels\n",
        "        D_in, H, D_out = 768, 50, 2\n",
        "\n",
        "        # Instantiate BERT model\n",
        "        self.bert = BertModel.from_pretrained('SI2M-Lab/DarijaBERT')\n",
        "\n",
        "        # Instantiate an one-layer feed-forward classifier\n",
        "        self.classifier = nn.Sequential(\n",
        "            nn.Linear(D_in, H),\n",
        "            nn.ReLU(),\n",
        "            #nn.Dropout(0.5),\n",
        "            nn.Linear(H, D_out)\n",
        "        )\n",
        "\n",
        "        # Freeze the BERT model\n",
        "        if freeze_bert:\n",
        "            for param in self.bert.parameters():\n",
        "                param.requires_grad = False\n",
        "\n",
        "    def forward(self, input_ids, attention_mask):\n",
        "        # Feed input to BERT\n",
        "        outputs = self.bert(input_ids=input_ids,\n",
        "                            attention_mask=attention_mask)\n",
        "\n",
        "        # Extract the last hidden state of the token `[CLS]` for classification task\n",
        "        last_hidden_state_cls = outputs[0][:, 0, :]\n",
        "\n",
        "        # Feed input to classifier to compute logits\n",
        "        logits = self.classifier(last_hidden_state_cls)\n",
        "\n",
        "        return logits"
      ]
    },
    {
      "cell_type": "markdown",
      "source": [
        "### 5.2. Optimizer & Learning Rate Scheduler\n",
        "\n",
        "To fine-tune our Bert Classifier, we need to create an optimizer. The authors recommend following hyper-parameters:\n",
        "\n",
        "Batch size: 16 or 32\n",
        "Learning rate (Adam): 5e-5, 3e-5 or 2e-5\n",
        "Number of epochs: 2, 3, 4"
      ],
      "metadata": {
        "id": "V6QwcE8F4yI6"
      }
    },
    {
      "cell_type": "code",
      "execution_count": null,
      "metadata": {
        "id": "jwnmE2PDj08V"
      },
      "outputs": [],
      "source": [
        "from transformers import AdamW, get_linear_schedule_with_warmup\n",
        "\n",
        "def initialize_model(epochs=4):\n",
        "    \"\"\"Initialize the Bert Classifier, the optimizer and the learning rate scheduler.\n",
        "    \"\"\"\n",
        "    # Instantiate Bert Classifier\n",
        "    bert_classifier = BertClassifier(freeze_bert=False)\n",
        "\n",
        "    # Tell PyTorch to run the model on GPU\n",
        "    bert_classifier.to(device)\n",
        "\n",
        "    # Create the optimizer\n",
        "    optimizer = AdamW(bert_classifier.parameters(),\n",
        "                      lr=5e-5,    # Default learning rate\n",
        "                      eps=1e-8    # Default epsilon value\n",
        "                      )\n",
        "\n",
        "    # Total number of training steps\n",
        "    total_steps = len(train_dataloader) * epochs\n",
        "\n",
        "    # Set up the learning rate scheduler\n",
        "    scheduler = get_linear_schedule_with_warmup(optimizer,\n",
        "                                                num_warmup_steps=0, # Default value\n",
        "                                                num_training_steps=total_steps)\n",
        "    return bert_classifier, optimizer, scheduler"
      ]
    },
    {
      "cell_type": "markdown",
      "source": [
        "### 5.3 Training Loop\n",
        "\n",
        "We will train our Bert Classifier for 4 epochs. In each epoch, we will train our model and evaluate its performance on the validation set."
      ],
      "metadata": {
        "id": "_HSDdxad5TY2"
      }
    },
    {
      "cell_type": "code",
      "execution_count": null,
      "metadata": {
        "id": "RFiMb-_8kVIL"
      },
      "outputs": [],
      "source": [
        "import random\n",
        "import time\n",
        "\n",
        "# Specify loss function\n",
        "loss_fn = nn.CrossEntropyLoss()\n",
        "\n",
        "def set_seed(seed_value=42):\n",
        "    \"\"\"Set seed for reproducibility.\n",
        "    \"\"\"\n",
        "    random.seed(seed_value)\n",
        "    np.random.seed(seed_value)\n",
        "    torch.manual_seed(seed_value)\n",
        "    torch.cuda.manual_seed_all(seed_value)\n",
        "\n",
        "def train(model, train_dataloader, val_dataloader=None, epochs=4, evaluation=False):\n",
        "    \"\"\"Train the BertClassifier model.\n",
        "    \"\"\"\n",
        "    # Start training loop\n",
        "    print(\"Start training...\\n\")\n",
        "    for epoch_i in range(epochs):\n",
        "        # =======================================\n",
        "        #               Training\n",
        "        # =======================================\n",
        "        # Print the header of the result table\n",
        "        print(f\"{'Epoch':^7} | {'Batch':^7} | {'Train Loss':^12} | {'Val Loss':^10} | {'Val Acc':^9} | {'Elapsed':^9}\")\n",
        "        print(\"-\"*70)\n",
        "\n",
        "        # Measure the elapsed time of each epoch\n",
        "        t0_epoch, t0_batch = time.time(), time.time()\n",
        "\n",
        "        # Reset tracking variables at the beginning of each epoch\n",
        "        total_loss, batch_loss, batch_counts = 0, 0, 0\n",
        "\n",
        "        # Put the model into the training mode\n",
        "        model.train()\n",
        "\n",
        "        # For each batch of training data...\n",
        "        for step, batch in enumerate(train_dataloader):\n",
        "            batch_counts +=1\n",
        "            # Load batch to GPU\n",
        "            b_input_ids, b_attn_mask, b_labels = tuple(t.to(device) for t in batch)\n",
        "\n",
        "            # Zero out any previously calculated gradients\n",
        "            model.zero_grad()\n",
        "\n",
        "            # Perform a forward pass. This will return logits.\n",
        "            logits = model(b_input_ids, b_attn_mask)\n",
        "\n",
        "            # Compute loss and accumulate the loss values\n",
        "            loss = loss_fn(logits, b_labels)\n",
        "            batch_loss += loss.item()\n",
        "            total_loss += loss.item()\n",
        "\n",
        "            # Perform a backward pass to calculate gradients\n",
        "            loss.backward()\n",
        "\n",
        "            # Clip the norm of the gradients to 1.0 to prevent \"exploding gradients\"\n",
        "            torch.nn.utils.clip_grad_norm_(model.parameters(), 1.0)\n",
        "\n",
        "            # Update parameters and the learning rate\n",
        "            optimizer.step()\n",
        "            scheduler.step()\n",
        "\n",
        "            # Print the loss values and time elapsed for every 20 batches\n",
        "            if (step % 20 == 0 and step != 0) or (step == len(train_dataloader) - 1):\n",
        "                # Calculate time elapsed for 20 batches\n",
        "                time_elapsed = time.time() - t0_batch\n",
        "\n",
        "                # Print training results\n",
        "                print(f\"{epoch_i + 1:^7} | {step:^7} | {batch_loss / batch_counts:^12.6f} | {'-':^10} | {'-':^9} | {time_elapsed:^9.2f}\")\n",
        "\n",
        "                # Reset batch tracking variables\n",
        "                batch_loss, batch_counts = 0, 0\n",
        "                t0_batch = time.time()\n",
        "\n",
        "        # Calculate the average loss over the entire training data\n",
        "        avg_train_loss = total_loss / len(train_dataloader)\n",
        "\n",
        "        print(\"-\"*70)\n",
        "        # =======================================\n",
        "        #               Evaluation\n",
        "        # =======================================\n",
        "        if evaluation == True:\n",
        "            # After the completion of each training epoch, measure the model's performance\n",
        "            # on our validation set.\n",
        "            val_loss, val_accuracy = evaluate(model, val_dataloader)\n",
        "\n",
        "            # Print performance over the entire training data\n",
        "            time_elapsed = time.time() - t0_epoch\n",
        "\n",
        "            print(f\"{epoch_i + 1:^7} | {'-':^7} | {avg_train_loss:^12.6f} | {val_loss:^10.6f} | {val_accuracy:^9.2f} | {time_elapsed:^9.2f}\")\n",
        "            print(\"-\"*70)\n",
        "        print(\"\\n\")\n",
        "\n",
        "    print(\"Training complete!\")\n",
        "\n",
        "\n",
        "def evaluate(model, val_dataloader):\n",
        "    \"\"\"After the completion of each training epoch, measure the model's performance\n",
        "    on our validation set.\n",
        "    \"\"\"\n",
        "    # Put the model into the evaluation mode. The dropout layers are disabled during\n",
        "    # the test time.\n",
        "    model.eval()\n",
        "\n",
        "    # Tracking variables\n",
        "    val_accuracy = []\n",
        "    val_loss = []\n",
        "\n",
        "    # For each batch in our validation set...\n",
        "    for batch in val_dataloader:\n",
        "        # Load batch to GPU\n",
        "        b_input_ids, b_attn_mask, b_labels = tuple(t.to(device) for t in batch)\n",
        "\n",
        "        # Compute logits\n",
        "        with torch.no_grad():\n",
        "            logits = model(b_input_ids, b_attn_mask)\n",
        "\n",
        "        # Compute loss\n",
        "        loss = loss_fn(logits, b_labels)\n",
        "        val_loss.append(loss.item())\n",
        "\n",
        "        # Get the predictions\n",
        "        preds = torch.argmax(logits, dim=1).flatten()\n",
        "\n",
        "        # Calculate the accuracy rate\n",
        "        accuracy = (preds == b_labels).cpu().numpy().mean() * 100\n",
        "        val_accuracy.append(accuracy)\n",
        "\n",
        "    # Compute the average accuracy and loss over the validation set.\n",
        "    val_loss = np.mean(val_loss)\n",
        "    val_accuracy = np.mean(val_accuracy)\n",
        "\n",
        "    return val_loss, val_accuracy"
      ]
    },
    {
      "cell_type": "code",
      "source": [
        "import numpy as np\n",
        "import time\n",
        "import torch\n",
        "from transformers import BertModel # Import BertModel"
      ],
      "metadata": {
        "id": "NCVTNt8vcH4P"
      },
      "execution_count": null,
      "outputs": []
    },
    {
      "cell_type": "markdown",
      "source": [
        "Now, let’s start training our BertClassifier!"
      ],
      "metadata": {
        "id": "03ky-NSx5hmw"
      }
    },
    {
      "cell_type": "code",
      "source": [
        "# Function to set the random seed for reproducibility\n",
        "def set_seed(seed_value=43):\n",
        "    \"\"\"Set seed for reproducibility.\"\"\"\n",
        "    random.seed(seed_value)\n",
        "    np.random.seed(seed_value)\n",
        "    torch.manual_seed(seed_value)\n",
        "    torch.cuda.manual_seed_all(seed_value)\n",
        "\n",
        "# Training function\n",
        "def train(model, train_dataloader, val_dataloader=None, epochs=4, evaluation=False):\n",
        "    \"\"\"Train the BertClassifier model.\"\"\"\n",
        "    # Initialize lists to store loss and accuracy for each epoch\n",
        "    train_losses = []\n",
        "    train_accuracies = []\n",
        "    val_losses = []\n",
        "    val_accuracies = []\n",
        "\n",
        "    # Start training loop\n",
        "    print(\"Start training...\\n\")\n",
        "    for epoch_i in range(epochs):\n",
        "        # Print the header of the result table\n",
        "        print(f\"{'Epoch':^7} | {'Batch':^7} | {'Train Loss':^12} | {'Train Acc':^9} | {'Val Loss':^10} | {'Val Acc':^9} | {'Elapsed':^9}\")\n",
        "        print(\"-\" * 85)\n",
        "\n",
        "        t0_epoch, t0_batch = time.time(), time.time()\n",
        "\n",
        "        total_loss, batch_loss, batch_counts = 0, 0, 0\n",
        "        total_accuracy, batch_accuracy = 0, 0\n",
        "\n",
        "        # Put the model into the training mode\n",
        "        model.train()\n",
        "\n",
        "        # For each batch of training data...\n",
        "        for step, batch in enumerate(train_dataloader):\n",
        "            batch_counts += 1\n",
        "\n",
        "            # Load batch to GPU\n",
        "            b_input_ids, b_attn_mask, b_labels = tuple(t.to(device) for t in batch)\n",
        "\n",
        "            # Zero out gradients\n",
        "            model.zero_grad()\n",
        "\n",
        "            # Perform forward pass and get logits\n",
        "            logits = model(b_input_ids, b_attn_mask)\n",
        "\n",
        "            # Compute loss and accumulate\n",
        "            loss = loss_fn(logits, b_labels)\n",
        "            batch_loss += loss.item()\n",
        "            total_loss += loss.item()\n",
        "\n",
        "            # Perform backward pass and update gradients\n",
        "            loss.backward()\n",
        "            torch.nn.utils.clip_grad_norm_(model.parameters(), 1.0)\n",
        "            optimizer.step()\n",
        "            scheduler.step()\n",
        "\n",
        "            # Compute training accuracy\n",
        "            preds = torch.argmax(logits, dim=1).flatten()\n",
        "            accuracy = (preds == b_labels).cpu().numpy().mean() * 100\n",
        "            batch_accuracy += accuracy\n",
        "            total_accuracy += accuracy\n",
        "\n",
        "            # Print loss and accuracy every 20 batches\n",
        "            if (step % 20 == 0 and step != 0) or (step == len(train_dataloader) - 1):\n",
        "                time_elapsed = time.time() - t0_batch\n",
        "                print(f\"{epoch_i + 1:^7} | {step:^7} | {batch_loss / batch_counts:^12.6f} | {batch_accuracy / batch_counts:^9.2f} | {'-':^10} | {'-':^9} | {time_elapsed:^9.2f}\")\n",
        "                batch_loss, batch_accuracy, batch_counts = 0, 0, 0\n",
        "                t0_batch = time.time()\n",
        "\n",
        "        avg_train_loss = total_loss / len(train_dataloader)\n",
        "        avg_train_accuracy = total_accuracy / len(train_dataloader)\n",
        "\n",
        "        train_losses.append(avg_train_loss)\n",
        "        train_accuracies.append(avg_train_accuracy)\n",
        "\n",
        "        print(\"-\" * 85)\n",
        "\n",
        "        # =======================================\n",
        "        #          Evaluation Step\n",
        "        # =======================================\n",
        "        if evaluation:\n",
        "            val_loss, val_accuracy = evaluate(model, val_dataloader)\n",
        "            val_losses.append(val_loss)\n",
        "            val_accuracies.append(val_accuracy)\n",
        "\n",
        "            time_elapsed = time.time() - t0_epoch\n",
        "            print(f\"{epoch_i + 1:^7} | {'-':^7} | {avg_train_loss:^12.6f} | {avg_train_accuracy:^9.2f} | {val_loss:^10.6f} | {val_accuracy:^9.2f} | {time_elapsed:^9.2f}\")\n",
        "            print(\"-\" * 85)\n",
        "\n",
        "        print(\"\\n\")\n",
        "\n",
        "    print(\"Training complete!\")\n",
        "\n",
        "    return train_losses, train_accuracies, val_losses, val_accuracies\n",
        "\n",
        "\n",
        "# Evaluation function\n",
        "def evaluate(model, val_dataloader):\n",
        "    \"\"\"After the completion of each training epoch, measure the model's performance\n",
        "    on our validation set.\"\"\"\n",
        "    model.eval()\n",
        "\n",
        "    # Tracking variables\n",
        "    val_accuracy = []\n",
        "    val_loss = []\n",
        "\n",
        "    # For each batch in our validation set...\n",
        "    for batch in val_dataloader:\n",
        "        # Load batch to GPU\n",
        "        b_input_ids, b_attn_mask, b_labels = tuple(t.to(device) for t in batch)\n",
        "\n",
        "        # Compute logits\n",
        "        with torch.no_grad():\n",
        "            logits = model(b_input_ids, b_attn_mask)\n",
        "\n",
        "        # Compute loss\n",
        "        loss = loss_fn(logits, b_labels)\n",
        "        val_loss.append(loss.item())\n",
        "\n",
        "        # Get the predictions\n",
        "        preds = torch.argmax(logits, dim=1).flatten()\n",
        "\n",
        "        # Calculate the accuracy rate\n",
        "        accuracy = (preds == b_labels).cpu().numpy().mean() * 100\n",
        "        val_accuracy.append(accuracy)\n",
        "\n",
        "    # Compute the average accuracy and loss over the validation set.\n",
        "    val_loss = np.mean(val_loss)\n",
        "    val_accuracy = np.mean(val_accuracy)\n",
        "\n",
        "    return val_loss, val_accuracy\n"
      ],
      "metadata": {
        "id": "5ygwwIpOAmJk"
      },
      "execution_count": null,
      "outputs": []
    },
    {
      "cell_type": "code",
      "source": [
        "bert_classifier, optimizer, scheduler = initialize_model(epochs=2)\n",
        "train_losses, train_accuracies, val_losses, val_accuracies = train(bert_classifier, train_dataloader, val_dataloader, epochs=2, evaluation=True)"
      ],
      "metadata": {
        "colab": {
          "base_uri": "https://localhost:8080/"
        },
        "id": "689cog3ZAPg8",
        "outputId": "1a0d9bfd-4c24-41c5-8c5c-af3ff1dd30f6"
      },
      "execution_count": null,
      "outputs": [
        {
          "output_type": "stream",
          "name": "stderr",
          "text": [
            "The `xla_device` argument has been deprecated in v4.4.0 of Transformers. It is ignored and you can safely remove it from your `config.json` file.\n",
            "Some weights of BertModel were not initialized from the model checkpoint at SI2M-Lab/DarijaBERT and are newly initialized: ['bert.pooler.dense.bias', 'bert.pooler.dense.weight']\n",
            "You should probably TRAIN this model on a down-stream task to be able to use it for predictions and inference.\n"
          ]
        },
        {
          "output_type": "stream",
          "name": "stdout",
          "text": [
            "Start training...\n",
            "\n",
            " Epoch  |  Batch  |  Train Loss  | Train Acc |  Val Loss  |  Val Acc  |  Elapsed \n",
            "-------------------------------------------------------------------------------------\n",
            "   1    |   20    |   0.633904   |   64.58   |     -      |     -     |   6.89   \n",
            "   1    |   40    |   0.515274   |   78.12   |     -      |     -     |   6.52   \n",
            "   1    |   60    |   0.477872   |   80.94   |     -      |     -     |   6.57   \n",
            "   1    |   80    |   0.468162   |   81.56   |     -      |     -     |   6.62   \n",
            "   1    |   100   |   0.436554   |   82.81   |     -      |     -     |   6.64   \n",
            "   1    |   120   |   0.461867   |   80.62   |     -      |     -     |   6.69   \n",
            "   1    |   140   |   0.518773   |   77.50   |     -      |     -     |   6.76   \n",
            "   1    |   160   |   0.550864   |   75.00   |     -      |     -     |   6.76   \n",
            "   1    |   180   |   0.441508   |   81.88   |     -      |     -     |   6.78   \n",
            "   1    |   200   |   0.405450   |   83.12   |     -      |     -     |   6.73   \n",
            "   1    |   220   |   0.486336   |   78.44   |     -      |     -     |   6.70   \n",
            "   1    |   240   |   0.417541   |   82.81   |     -      |     -     |   6.67   \n",
            "   1    |   260   |   0.441238   |   79.69   |     -      |     -     |   6.67   \n",
            "   1    |   280   |   0.408938   |   85.00   |     -      |     -     |   6.64   \n",
            "   1    |   300   |   0.484427   |   79.38   |     -      |     -     |   6.66   \n",
            "   1    |   320   |   0.361067   |   85.94   |     -      |     -     |   6.68   \n",
            "   1    |   340   |   0.398254   |   83.12   |     -      |     -     |   6.67   \n",
            "   1    |   360   |   0.407783   |   83.75   |     -      |     -     |   6.69   \n",
            "   1    |   380   |   0.460097   |   80.31   |     -      |     -     |   6.69   \n",
            "   1    |   400   |   0.370068   |   85.00   |     -      |     -     |   6.70   \n",
            "   1    |   420   |   0.349108   |   87.50   |     -      |     -     |   6.70   \n",
            "   1    |   440   |   0.461570   |   79.69   |     -      |     -     |   6.70   \n",
            "   1    |   460   |   0.431702   |   81.56   |     -      |     -     |   6.69   \n",
            "   1    |   480   |   0.419780   |   83.44   |     -      |     -     |   6.68   \n",
            "   1    |   500   |   0.384174   |   84.38   |     -      |     -     |   6.67   \n",
            "   1    |   520   |   0.418766   |   82.19   |     -      |     -     |   6.68   \n",
            "   1    |   540   |   0.435825   |   81.56   |     -      |     -     |   6.68   \n",
            "   1    |   560   |   0.425778   |   82.50   |     -      |     -     |   6.69   \n",
            "   1    |   576   |   0.414775   |   83.46   |     -      |     -     |   5.28   \n",
            "-------------------------------------------------------------------------------------\n",
            "   1    |    -    |   0.444929   |   81.19   |  0.414311  |   82.12   |  199.08  \n",
            "-------------------------------------------------------------------------------------\n",
            "\n",
            "\n",
            " Epoch  |  Batch  |  Train Loss  | Train Acc |  Val Loss  |  Val Acc  |  Elapsed \n",
            "-------------------------------------------------------------------------------------\n",
            "   2    |   20    |   0.373715   |   86.01   |     -      |     -     |   7.03   \n",
            "   2    |   40    |   0.243066   |   91.56   |     -      |     -     |   6.71   \n",
            "   2    |   60    |   0.220293   |   92.50   |     -      |     -     |   6.68   \n",
            "   2    |   80    |   0.292688   |   89.06   |     -      |     -     |   6.70   \n",
            "   2    |   100   |   0.329965   |   87.19   |     -      |     -     |   6.69   \n",
            "   2    |   120   |   0.295312   |   88.12   |     -      |     -     |   6.68   \n",
            "   2    |   140   |   0.286542   |   89.06   |     -      |     -     |   6.68   \n",
            "   2    |   160   |   0.286229   |   90.00   |     -      |     -     |   6.69   \n",
            "   2    |   180   |   0.284571   |   88.12   |     -      |     -     |   6.66   \n",
            "   2    |   200   |   0.291420   |   88.12   |     -      |     -     |   6.68   \n",
            "   2    |   220   |   0.295451   |   89.69   |     -      |     -     |   6.67   \n",
            "   2    |   240   |   0.345471   |   86.25   |     -      |     -     |   6.67   \n",
            "   2    |   260   |   0.263563   |   88.75   |     -      |     -     |   6.68   \n",
            "   2    |   280   |   0.156719   |   94.38   |     -      |     -     |   6.69   \n",
            "   2    |   300   |   0.275709   |   90.00   |     -      |     -     |   6.68   \n",
            "   2    |   320   |   0.310711   |   88.12   |     -      |     -     |   6.68   \n",
            "   2    |   340   |   0.325697   |   86.56   |     -      |     -     |   6.68   \n",
            "   2    |   360   |   0.318821   |   87.50   |     -      |     -     |   6.68   \n",
            "   2    |   380   |   0.178371   |   93.44   |     -      |     -     |   6.67   \n",
            "   2    |   400   |   0.281419   |   88.44   |     -      |     -     |   6.69   \n",
            "   2    |   420   |   0.246177   |   91.25   |     -      |     -     |   6.69   \n",
            "   2    |   440   |   0.249228   |   89.69   |     -      |     -     |   6.67   \n",
            "   2    |   460   |   0.302811   |   88.44   |     -      |     -     |   6.68   \n",
            "   2    |   480   |   0.223582   |   92.19   |     -      |     -     |   6.67   \n",
            "   2    |   500   |   0.310725   |   88.44   |     -      |     -     |   6.69   \n",
            "   2    |   520   |   0.228200   |   90.94   |     -      |     -     |   6.68   \n",
            "   2    |   540   |   0.220139   |   90.94   |     -      |     -     |   6.69   \n",
            "   2    |   560   |   0.237193   |   91.88   |     -      |     -     |   6.68   \n",
            "   2    |   576   |   0.128812   |   95.05   |     -      |     -     |   5.28   \n",
            "-------------------------------------------------------------------------------------\n",
            "   2    |    -    |   0.270209   |   89.67   |  0.417896  |   85.00   |  199.33  \n",
            "-------------------------------------------------------------------------------------\n",
            "\n",
            "\n",
            "Training complete!\n"
          ]
        }
      ]
    },
    {
      "cell_type": "markdown",
      "metadata": {
        "id": "OrpNjZv23nkA"
      },
      "source": [
        "## 6. Predicting & Evaluating the model"
      ]
    },
    {
      "cell_type": "code",
      "execution_count": null,
      "metadata": {
        "id": "-2UYS762lfD6"
      },
      "outputs": [],
      "source": [
        "import torch.nn.functional as F\n",
        "\n",
        "def bert_predict(model, test_dataloader):\n",
        "    \"\"\"Perform a forward pass on the trained BERT model to predict probabilities\n",
        "    on the test set.\n",
        "    \"\"\"\n",
        "    # Put the model into the evaluation mode. The dropout layers are disabled during\n",
        "    # the test time.\n",
        "    model.eval()\n",
        "\n",
        "    all_logits = []\n",
        "\n",
        "    # For each batch in our test set...\n",
        "    for batch in test_dataloader:\n",
        "        # Load batch to GPU\n",
        "        b_input_ids, b_attn_mask = tuple(t.to(device) for t in batch)[:2]\n",
        "\n",
        "        # Compute logits\n",
        "        with torch.no_grad():\n",
        "            logits = model(b_input_ids, b_attn_mask)\n",
        "        all_logits.append(logits)\n",
        "\n",
        "    # Concatenate logits from each batch\n",
        "    all_logits = torch.cat(all_logits, dim=0)\n",
        "\n",
        "    # Apply softmax to calculate probabilities\n",
        "    probs = F.softmax(all_logits, dim=1).cpu().numpy()\n",
        "\n",
        "    return probs"
      ]
    },
    {
      "cell_type": "code",
      "execution_count": null,
      "metadata": {
        "id": "7-yQ1kuWATST"
      },
      "outputs": [],
      "source": [
        "from sklearn.metrics import accuracy_score, roc_curve, auc\n",
        "\n",
        "def evaluate_roc(probs, y_true):\n",
        "    preds = probs[:, 1]\n",
        "    fpr, tpr, threshold = roc_curve(y_true, preds)\n",
        "    roc_auc = auc(fpr, tpr)\n",
        "    print(f'AUC: {roc_auc:.4f}')\n",
        "\n",
        "    # Get accuracy over the test set\n",
        "    y_pred = np.where(preds >= 0.5, 1, 0)\n",
        "    accuracy = accuracy_score(y_true, y_pred)\n",
        "    print(f'Accuracy: {accuracy*100:.2f}%')\n",
        "\n",
        "    # Plot ROC AUC\n",
        "    plt.title('Receiver Operating Characteristic')\n",
        "    plt.plot(fpr, tpr, 'b', label = 'AUC = %0.2f' % roc_auc)\n",
        "    plt.legend(loc = 'lower right')\n",
        "    plt.plot([0, 1], [0, 1],'r--')\n",
        "    plt.xlim([0, 1])\n",
        "    plt.ylim([0, 1])\n",
        "    plt.ylabel('True Positive Rate')\n",
        "    plt.xlabel('False Positive Rate')\n",
        "    plt.show()"
      ]
    },
    {
      "cell_type": "markdown",
      "metadata": {
        "id": "fkWglYzq3nkA"
      },
      "source": [
        "## Accuracy, ROC, AUC"
      ]
    },
    {
      "cell_type": "code",
      "execution_count": null,
      "metadata": {
        "colab": {
          "base_uri": "https://localhost:8080/",
          "height": 508
        },
        "id": "X0zt7vzc_98D",
        "outputId": "e9915402-2563-487e-bc40-247173ad2006"
      },
      "outputs": [
        {
          "output_type": "stream",
          "name": "stdout",
          "text": [
            "AUC: 0.9182\n",
            "Accuracy: 85.28%\n"
          ]
        },
        {
          "output_type": "display_data",
          "data": {
            "text/plain": [
              "<Figure size 640x480 with 1 Axes>"
            ],
            "image/png": "[encoded data removed]"
          },
          "metadata": {}
        }
      ],
      "source": [
        "import matplotlib.pyplot as plt\n",
        "\n",
        "# Compute predicted probabilities on the test set\n",
        "probs = bert_predict(bert_classifier, val_dataloader)\n",
        "\n",
        "# Evaluate the Bert classifier\n",
        "evaluate_roc(probs, y_test)"
      ]
    },
    {
      "cell_type": "markdown",
      "metadata": {
        "id": "Qp8pSBtk3nkB"
      },
      "source": [
        "### Do Some Predictions"
      ]
    },
    {
      "cell_type": "code",
      "execution_count": null,
      "metadata": {
        "colab": {
          "base_uri": "https://localhost:8080/"
        },
        "id": "WNYQMm6iAHhd",
        "outputId": "f3b6a66e-1552-4775-d7e6-cbf5bc646acc"
      },
      "outputs": [
        {
          "output_type": "stream",
          "name": "stdout",
          "text": [
            "Tokenizing data...\n"
          ]
        },
        {
          "output_type": "stream",
          "name": "stderr",
          "text": [
            "/usr/local/lib/python3.10/dist-packages/transformers/tokenization_utils_base.py:2673: FutureWarning: The `pad_to_max_length` argument is deprecated and will be removed in a future version, use `padding=True` or `padding='longest'` to pad to the longest sequence in the batch, or use `padding='max_length'` to pad to a max length. In this case, you can give a specific length with `max_length` (e.g. `max_length=45`) or leave max_length to None to pad to the maximal input size of the model (e.g. 512 for Bert).\n",
            "  warnings.warn(\n"
          ]
        }
      ],
      "source": [
        "# Run `preprocessing_for_bert` on the test set\n",
        "print('Tokenizing data...')\n",
        "test_inputs, test_masks = preprocessing_for_bert(['يبقى غير ذي مصداقية ، ومن يغض الطرف عن الفاسدين ، متواطئ','خاصنا نديرو شي اضراب عليهم', 'تفو على حالة كي دايرا'])\n",
        "\n",
        "# Create the DataLoader for our test set\n",
        "test_dataset = TensorDataset(test_inputs, test_masks)\n",
        "test_sampler = SequentialSampler(test_dataset)\n",
        "test_dataloader = DataLoader(test_dataset, sampler=test_sampler, batch_size=32)"
      ]
    },
    {
      "cell_type": "code",
      "execution_count": null,
      "metadata": {
        "colab": {
          "base_uri": "https://localhost:8080/"
        },
        "id": "_3KjKqK4CDy2",
        "outputId": "b40df81e-b5df-44bd-a0e6-054270e92502"
      },
      "outputs": [
        {
          "output_type": "stream",
          "name": "stdout",
          "text": [
            "Number of tweets predicted positive:  0\n"
          ]
        }
      ],
      "source": [
        "# Compute predicted probabilities on the test set\n",
        "probs = bert_predict(bert_classifier, test_dataloader)\n",
        "\n",
        "# Get predictions from the probabilities\n",
        "threshold = 0.9\n",
        "preds = np.where(probs[:, 1] > threshold, 1, 0)\n",
        "\n",
        "# Number of tweets predicted non-negative\n",
        "print(\"Number of tweets predicted positive: \", preds.sum())"
      ]
    },
    {
      "cell_type": "markdown",
      "source": [
        "## Les défis recontrés :\n",
        "\n",
        "\n",
        "\n",
        "**Absence de standardisation et Mélange linguistique :** Inclusion de mots étrangers (français, anglais).\n",
        "\n",
        "**Manque de corpus :** Peu de données annotées spécifiques à la darija.\n",
        "\n",
        "**Données bruitées :** Présence de fautes, emojis, hashtags.\n",
        "\n",
        "**Modèles adaptés :** Ressources limitées pour la darija (ex. DarijaBERT).\n",
        "\n",
        "**Déséquilibre des classes :** Sentiments négatifs souvent sur-représentés.\n",
        "\n",
        "**Détection du sarcasme :** Complexité des expressions idiomatiques et sarcasmes.\n",
        "\n",
        "**Ressources limitées :** Contraintes de calcul pour modèles complexes.\n",
        "Différences régionales : Variations dialectales de la darija.\n",
        "Problèmes éthiques : Confidentialité des données collectées."
      ],
      "metadata": {
        "id": "kch0y4TrQA0f"
      }
    },
    {
      "cell_type": "markdown",
      "source": [
        "## Conclusion\n",
        "\n",
        "En conclusion, le fine-tuning de BERT a permis d'améliorer significativement l'analyse de sentiment, en capturant efficacement le contexte et les nuances linguistiques. Malgré quelques défis liés  aux données bruyantes, cette approche offre un potentiel considérable pour des analyses plus précises. Des optimisations futures peuvent encore affiner les résultats."
      ],
      "metadata": {
        "id": "AeYV4eAyS22P"
      }
    },
    {
      "cell_type": "code",
      "source": [],
      "metadata": {
        "id": "Ji4qpjFgLO8h"
      },
      "execution_count": null,
      "outputs": []
    }
  ],
  "metadata": {
    "colab": {
      "provenance": [],
      "gpuType": "T4",
      "include_colab_link": true
    },
    "kernelspec": {
      "display_name": "Python 3",
      "name": "python3"
    },
    "language_info": {
      "codemirror_mode": {
        "name": "ipython",
        "version": 3
      },
      "file_extension": ".py",
      "mimetype": "text/x-python",
      "name": "python",
      "nbconvert_exporter": "python",
      "pygments_lexer": "ipython3",
      "version": "3.9.13"
    },
    "accelerator": "GPU"
  },
  "nbformat": 4,
  "nbformat_minor": 0
}